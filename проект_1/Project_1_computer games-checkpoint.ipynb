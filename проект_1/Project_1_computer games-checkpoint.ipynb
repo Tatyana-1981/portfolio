{
 "cells": [
  {
   "cell_type": "markdown",
   "metadata": {},
   "source": [
    "# Исследование данных о продажах компьютерных игр"
   ]
  },
  {
   "cell_type": "markdown",
   "metadata": {},
   "source": [
    "В целях выявления потенциально популярного продукта и планирования рекламной кампании необходимо выявить перспективные действующие платформы, выпускающие компьютерные игры, а также популярные (востребованные) жанры компьютерных игр с учетом  предпочтений пользователей из Северной Америки, Европы и Японии.\n",
    "\n",
    "Для анализа представлен файл с данными о продажах компьютерных игр в Северной Америке, Европе и Японии до 2016 года. \n",
    "В файл включена следующая информация: название игры, год ее выпуска, жанр, выпустившая игру платформа, рейтинг ESRB, количество проданный игр в Северной Америке, Европе и Японии, а также оценки критиков и пользователей.   \n"
   ]
  },
  {
   "cell_type": "markdown",
   "metadata": {},
   "source": [
    "## Просмотр информации"
   ]
  },
  {
   "cell_type": "code",
   "execution_count": 1,
   "metadata": {},
   "outputs": [
    {
     "name": "stdout",
     "output_type": "stream",
     "text": [
      "<class 'pandas.core.frame.DataFrame'>\n",
      "RangeIndex: 16715 entries, 0 to 16714\n",
      "Data columns (total 11 columns):\n",
      " #   Column           Non-Null Count  Dtype  \n",
      "---  ------           --------------  -----  \n",
      " 0   Name             16713 non-null  object \n",
      " 1   Platform         16715 non-null  object \n",
      " 2   Year_of_Release  16446 non-null  float64\n",
      " 3   Genre            16713 non-null  object \n",
      " 4   NA_sales         16715 non-null  float64\n",
      " 5   EU_sales         16715 non-null  float64\n",
      " 6   JP_sales         16715 non-null  float64\n",
      " 7   Other_sales      16715 non-null  float64\n",
      " 8   Critic_Score     8137 non-null   float64\n",
      " 9   User_Score       10014 non-null  object \n",
      " 10  Rating           9949 non-null   object \n",
      "dtypes: float64(6), object(5)\n",
      "memory usage: 1.4+ MB\n"
     ]
    }
   ],
   "source": [
    "import pandas as pd\n",
    "import matplotlib.pyplot as plt\n",
    "games = pd.read_csv(r\"C:\\Users\\user\\Downloads\\games.csv\")\n",
    "games.info() #выведем основную информацию о ДФ"
   ]
  },
  {
   "cell_type": "code",
   "execution_count": 2,
   "metadata": {},
   "outputs": [
    {
     "name": "stdout",
     "output_type": "stream",
     "text": [
      "                        Name Platform  Year_of_Release         Genre  \\\n",
      "0                 Wii Sports      Wii           2006.0        Sports   \n",
      "1          Super Mario Bros.      NES           1985.0      Platform   \n",
      "2             Mario Kart Wii      Wii           2008.0        Racing   \n",
      "3          Wii Sports Resort      Wii           2009.0        Sports   \n",
      "4   Pokemon Red/Pokemon Blue       GB           1996.0  Role-Playing   \n",
      "5                     Tetris       GB           1989.0        Puzzle   \n",
      "6      New Super Mario Bros.       DS           2006.0      Platform   \n",
      "7                   Wii Play      Wii           2006.0          Misc   \n",
      "8  New Super Mario Bros. Wii      Wii           2009.0      Platform   \n",
      "9                  Duck Hunt      NES           1984.0       Shooter   \n",
      "\n",
      "   NA_sales  EU_sales  JP_sales  Other_sales  Critic_Score User_Score Rating  \n",
      "0     41.36     28.96      3.77         8.45          76.0          8      E  \n",
      "1     29.08      3.58      6.81         0.77           NaN        NaN    NaN  \n",
      "2     15.68     12.76      3.79         3.29          82.0        8.3      E  \n",
      "3     15.61     10.93      3.28         2.95          80.0          8      E  \n",
      "4     11.27      8.89     10.22         1.00           NaN        NaN    NaN  \n",
      "5     23.20      2.26      4.22         0.58           NaN        NaN    NaN  \n",
      "6     11.28      9.14      6.50         2.88          89.0        8.5      E  \n",
      "7     13.96      9.18      2.93         2.84          58.0        6.6      E  \n",
      "8     14.44      6.94      4.70         2.24          87.0        8.4      E  \n",
      "9     26.93      0.63      0.28         0.47           NaN        NaN    NaN  \n"
     ]
    }
   ],
   "source": [
    "# выведем первые 10 строк ДФ\n",
    "print(games.head(10))"
   ]
  },
  {
   "cell_type": "markdown",
   "metadata": {},
   "source": [
    "Выводы:\n",
    "1. Незаполненные ячейки в столбцах: Название игры, Год выпуска, Жанр, Оценка критиков и пользователей, а также рейтинг.\n",
    "2. Необходимо осуществить изменение типа данных по колонкам: \n",
    " - Год выпуска: изменив float на datetime;\n",
    " - Оценки пользователей: изменив object на float."
   ]
  },
  {
   "cell_type": "markdown",
   "metadata": {},
   "source": [
    "## Предобработка данных"
   ]
  },
  {
   "cell_type": "code",
   "execution_count": 3,
   "metadata": {},
   "outputs": [
    {
     "name": "stdout",
     "output_type": "stream",
     "text": [
      "Index(['name', 'platform', 'year_of_release', 'genre', 'na_sales', 'eu_sales',\n",
      "       'jp_sales', 'other_sales', 'critic_score', 'user_score', 'rating'],\n",
      "      dtype='object')\n"
     ]
    }
   ],
   "source": [
    "# названия столбцов приведем к нижнему регистру и осуществим проверку выполненных преобразований\n",
    "games.columns = games.columns.str.lower() \n",
    "print(games.columns)"
   ]
  },
  {
   "cell_type": "code",
   "execution_count": 4,
   "metadata": {},
   "outputs": [],
   "source": [
    "games['year_of_release'] = pd.to_datetime(games['year_of_release'], format='%Y') # поменяем тип данных в столбце Год выпуска\n",
    "games['user_score'] = pd.to_numeric(games['user_score'], errors = 'coerce') # также заменим тип данных в столбце оценка пользователей, в связи с тем, что одна из ячеек заполнена некорректно заменим их на 0 "
   ]
  },
  {
   "cell_type": "code",
   "execution_count": 5,
   "metadata": {},
   "outputs": [
    {
     "name": "stdout",
     "output_type": "stream",
     "text": [
      "name                  2\n",
      "platform              0\n",
      "year_of_release     269\n",
      "genre                 2\n",
      "na_sales              0\n",
      "eu_sales              0\n",
      "jp_sales              0\n",
      "other_sales           0\n",
      "critic_score       8578\n",
      "user_score         9125\n",
      "rating             6766\n",
      "dtype: int64\n"
     ]
    }
   ],
   "source": [
    "print(games.isna().sum())"
   ]
  },
  {
   "cell_type": "code",
   "execution_count": 6,
   "metadata": {},
   "outputs": [],
   "source": [
    "games[games['genre'].isnull()] # просмотрим строки, у которых не заполнен жанр\n",
    "games = games.dropna(subset = ['genre']) # так как в 2ух строках отсутсвует и имя, и жанр, оценки и рейтинг - удалим их"
   ]
  },
  {
   "cell_type": "code",
   "execution_count": 7,
   "metadata": {},
   "outputs": [
    {
     "name": "stdout",
     "output_type": "stream",
     "text": [
      "count    8137.000000\n",
      "mean       68.967679\n",
      "std        13.938165\n",
      "min        13.000000\n",
      "25%        60.000000\n",
      "50%        71.000000\n",
      "75%        79.000000\n",
      "max        98.000000\n",
      "Name: critic_score, dtype: float64\n",
      "count    7590.000000\n",
      "mean        7.125046\n",
      "std         1.500006\n",
      "min         0.000000\n",
      "25%         6.400000\n",
      "50%         7.500000\n",
      "75%         8.200000\n",
      "max         9.700000\n",
      "Name: user_score, dtype: float64\n"
     ]
    }
   ],
   "source": [
    "#проверим наличие аномалий, для этого выведем информацию по оценкам игр\n",
    "\n",
    "print(games['critic_score'].describe())\n",
    "print(games['user_score'].describe())\n",
    "\n",
    "# так как аномалий нет, заполним пропущенные значения в колонке Оценка критиков и Оценка пользователей средним значением оценок по жанру\n",
    "for type in games['genre'].unique():\n",
    "    mean_type = games.loc[games['genre'] == type]['critic_score'].mean()\n",
    "    games.loc[games['genre']==type, 'critic_score'] = games['critic_score'].fillna(mean_type)\n",
    "for type in games['genre'].unique():\n",
    "    mean_type = games.loc[games['genre'] == type]['user_score'].mean()\n",
    "    games.loc[games['genre']==type, 'user_score'] = games['user_score'].fillna(mean_type)"
   ]
  },
  {
   "cell_type": "code",
   "execution_count": 8,
   "metadata": {
    "scrolled": false
   },
   "outputs": [
    {
     "data": {
      "text/plain": [
       "genre         rating\n",
       "Action        AO           1\n",
       "              E          416\n",
       "              E10+       481\n",
       "              EC           1\n",
       "              M          608\n",
       "              T          681\n",
       "Adventure     E          162\n",
       "              E10+        68\n",
       "              EC           2\n",
       "              M           99\n",
       "              T          115\n",
       "Fighting      E            8\n",
       "              E10+        19\n",
       "              M           49\n",
       "              T          362\n",
       "Misc          E          457\n",
       "              E10+       167\n",
       "              EC           5\n",
       "              K-A          1\n",
       "              M           13\n",
       "              T          239\n",
       "Platform      E          358\n",
       "              E10+       144\n",
       "              M            3\n",
       "              T           64\n",
       "Puzzle        E          289\n",
       "              E10+        43\n",
       "              T           10\n",
       "Racing        E          585\n",
       "              E10+        96\n",
       "              M           18\n",
       "              RP           1\n",
       "              T          172\n",
       "Role-Playing  E           84\n",
       "              E10+       111\n",
       "              M          162\n",
       "              T          420\n",
       "Shooter       E           48\n",
       "              E10+        58\n",
       "              M          565\n",
       "              T          348\n",
       "Simulation    E          325\n",
       "              E10+        48\n",
       "              M            5\n",
       "              T          190\n",
       "Sports        E         1188\n",
       "              E10+       107\n",
       "              M           16\n",
       "              T          198\n",
       "Strategy      E           70\n",
       "              E10+        78\n",
       "              K-A          2\n",
       "              M           25\n",
       "              RP           2\n",
       "              T          162\n",
       "Name: name, dtype: int64"
      ]
     },
     "metadata": {},
     "output_type": "display_data"
    },
    {
     "data": {
      "image/png": "[encoded data removed]",
      "text/plain": [
       "<Figure size 640x480 with 1 Axes>"
      ]
     },
     "metadata": {},
     "output_type": "display_data"
    }
   ],
   "source": [
    "games_group_rating = games.groupby(['genre','rating'])['name'].count() #сгруппируем данные по жанру и рейтингу \n",
    "display(games_group_rating)\n",
    "games['rating'] = games['rating'].fillna(value = 'unknown')\n",
    "games['rating'].hist(); #построим гистограмму по рейтингам игр\n"
   ]
  },
  {
   "cell_type": "markdown",
   "metadata": {},
   "source": [
    "Было предположение, что пропуски в колонке Рейтинг, можно заполнить в зависимости от жанра игры, но, сгруппировав данные по рейтингу и жанру, видно, что в каждом жанре присутствуют игры различных рейтингов. В связи с чем, незаполненные ячейки по рейтингу нельзя заполнить исходя из жанра игры. \n",
    "Также год выпуска игры не может быть заполнен исходя из имеющейся информации.\n",
    "\n",
    "Поэтому заполним пустые ячейки в столбце \"рейтинг\" на \"unknown\". Год выпуска оставим незаполненным. \n",
    "\n",
    "Вывод:\n",
    "Порядка 7000 - это незаполненные значения по столбцу \"рейтинг\".\n",
    "Остальные значения по столбцу \"рейтинг\" распределились следующим образом:  \n",
    "  - около 4000 -  для всех, в указанную категорию входят взрослые и дети от 6 лет (E);\n",
    "  - порядка 3000 - для подростков от 13 лет(T);\n",
    "  - и примерно на одном уровне (порядка 1500) - для взрослых старше 17 лет (M) и для всех (от 10 лет) (E10+)\n"
   ]
  },
  {
   "cell_type": "markdown",
   "metadata": {},
   "source": [
    "Выводы по предобработке данных\n",
    "1. В результате проведенного предварительного анализа были исключены 2 строки;\n",
    "2. Недостающие значения по столбцам \"Оценки критиков\" и \"Оценки пользователей\" были заменены на средние арифметические значения исходя из жанра игры; \n",
    "3. Незаполненными остались значения по столбцам \"Рейтинг\" и \"Год выпуска\". Скорее всего указанные столбца остались незаполненными по следующим причинам:\n",
    "-  некоммерческая организация Entertainment Software Rating Board (ESRB) появилась в США только в 1994 году, поэтому, полагаю, часть игр остались без этой характеристики;\n",
    "- возможно, так как ESRB появилась в США, игры, выпущенные в других странах, могли быть ею не оценены;\n",
    "- не очень популярные игры не проходили через ESRB;\n",
    "- возможно, у игр, выпущенных давно, утеряна информация о годе выпуска;\n",
    "- возможный сбой при сборе, скачивании информации, в связи с чем образовались пропуски."
   ]
  },
  {
   "cell_type": "markdown",
   "metadata": {},
   "source": [
    "## Исследовательский анализ данных"
   ]
  },
  {
   "cell_type": "code",
   "execution_count": 9,
   "metadata": {},
   "outputs": [
    {
     "data": {
      "text/html": [
       "<div>\n",
       "<style scoped>\n",
       "    .dataframe tbody tr th:only-of-type {\n",
       "        vertical-align: middle;\n",
       "    }\n",
       "\n",
       "    .dataframe tbody tr th {\n",
       "        vertical-align: top;\n",
       "    }\n",
       "\n",
       "    .dataframe thead th {\n",
       "        text-align: right;\n",
       "    }\n",
       "</style>\n",
       "<table border=\"1\" class=\"dataframe\">\n",
       "  <thead>\n",
       "    <tr style=\"text-align: right;\">\n",
       "      <th></th>\n",
       "      <th>name</th>\n",
       "      <th>platform</th>\n",
       "      <th>year_of_release</th>\n",
       "      <th>genre</th>\n",
       "      <th>na_sales</th>\n",
       "      <th>eu_sales</th>\n",
       "      <th>jp_sales</th>\n",
       "      <th>other_sales</th>\n",
       "      <th>critic_score</th>\n",
       "      <th>user_score</th>\n",
       "      <th>rating</th>\n",
       "      <th>total_sales</th>\n",
       "    </tr>\n",
       "  </thead>\n",
       "  <tbody>\n",
       "    <tr>\n",
       "      <th>0</th>\n",
       "      <td>Wii Sports</td>\n",
       "      <td>Wii</td>\n",
       "      <td>2006-01-01</td>\n",
       "      <td>Sports</td>\n",
       "      <td>41.36</td>\n",
       "      <td>28.96</td>\n",
       "      <td>3.77</td>\n",
       "      <td>8.45</td>\n",
       "      <td>76.000000</td>\n",
       "      <td>8.000000</td>\n",
       "      <td>E</td>\n",
       "      <td>82.54</td>\n",
       "    </tr>\n",
       "    <tr>\n",
       "      <th>1</th>\n",
       "      <td>Super Mario Bros.</td>\n",
       "      <td>NES</td>\n",
       "      <td>1985-01-01</td>\n",
       "      <td>Platform</td>\n",
       "      <td>29.08</td>\n",
       "      <td>3.58</td>\n",
       "      <td>6.81</td>\n",
       "      <td>0.77</td>\n",
       "      <td>68.058350</td>\n",
       "      <td>7.301402</td>\n",
       "      <td>unknown</td>\n",
       "      <td>40.24</td>\n",
       "    </tr>\n",
       "    <tr>\n",
       "      <th>2</th>\n",
       "      <td>Mario Kart Wii</td>\n",
       "      <td>Wii</td>\n",
       "      <td>2008-01-01</td>\n",
       "      <td>Racing</td>\n",
       "      <td>15.68</td>\n",
       "      <td>12.76</td>\n",
       "      <td>3.79</td>\n",
       "      <td>3.29</td>\n",
       "      <td>82.000000</td>\n",
       "      <td>8.300000</td>\n",
       "      <td>E</td>\n",
       "      <td>35.52</td>\n",
       "    </tr>\n",
       "    <tr>\n",
       "      <th>3</th>\n",
       "      <td>Wii Sports Resort</td>\n",
       "      <td>Wii</td>\n",
       "      <td>2009-01-01</td>\n",
       "      <td>Sports</td>\n",
       "      <td>15.61</td>\n",
       "      <td>10.93</td>\n",
       "      <td>3.28</td>\n",
       "      <td>2.95</td>\n",
       "      <td>80.000000</td>\n",
       "      <td>8.000000</td>\n",
       "      <td>E</td>\n",
       "      <td>32.77</td>\n",
       "    </tr>\n",
       "    <tr>\n",
       "      <th>4</th>\n",
       "      <td>Pokemon Red/Pokemon Blue</td>\n",
       "      <td>GB</td>\n",
       "      <td>1996-01-01</td>\n",
       "      <td>Role-Playing</td>\n",
       "      <td>11.27</td>\n",
       "      <td>8.89</td>\n",
       "      <td>10.22</td>\n",
       "      <td>1.00</td>\n",
       "      <td>72.652646</td>\n",
       "      <td>7.619515</td>\n",
       "      <td>unknown</td>\n",
       "      <td>31.38</td>\n",
       "    </tr>\n",
       "  </tbody>\n",
       "</table>\n",
       "</div>"
      ],
      "text/plain": [
       "                       name platform year_of_release         genre  na_sales  \\\n",
       "0                Wii Sports      Wii      2006-01-01        Sports     41.36   \n",
       "1         Super Mario Bros.      NES      1985-01-01      Platform     29.08   \n",
       "2            Mario Kart Wii      Wii      2008-01-01        Racing     15.68   \n",
       "3         Wii Sports Resort      Wii      2009-01-01        Sports     15.61   \n",
       "4  Pokemon Red/Pokemon Blue       GB      1996-01-01  Role-Playing     11.27   \n",
       "\n",
       "   eu_sales  jp_sales  other_sales  critic_score  user_score   rating  \\\n",
       "0     28.96      3.77         8.45     76.000000    8.000000        E   \n",
       "1      3.58      6.81         0.77     68.058350    7.301402  unknown   \n",
       "2     12.76      3.79         3.29     82.000000    8.300000        E   \n",
       "3     10.93      3.28         2.95     80.000000    8.000000        E   \n",
       "4      8.89     10.22         1.00     72.652646    7.619515  unknown   \n",
       "\n",
       "   total_sales  \n",
       "0        82.54  \n",
       "1        40.24  \n",
       "2        35.52  \n",
       "3        32.77  \n",
       "4        31.38  "
      ]
     },
     "metadata": {},
     "output_type": "display_data"
    }
   ],
   "source": [
    "games['total_sales'] = games['na_sales'] + games['eu_sales'] + games['jp_sales'] + games['other_sales'] # добавим столбец с суммарными продажами\n",
    "display(games.head())"
   ]
  },
  {
   "cell_type": "code",
   "execution_count": 25,
   "metadata": {},
   "outputs": [
    {
     "data": {
      "image/png": "[encoded data removed]",
      "text/plain": [
       "<Figure size 1200x600 with 1 Axes>"
      ]
     },
     "metadata": {},
     "output_type": "display_data"
    }
   ],
   "source": [
    "games_group_year = games.groupby('year_of_release')['name'].count() #сгруппируем количество продаж по годам\n",
    "games_group_year.plot(style='o-', figsize=(12,6), grid=True, title='Количество продаж игр по годам');\n"
   ]
  },
  {
   "cell_type": "markdown",
   "metadata": {},
   "source": [
    "Вывод: \n",
    "1. Из графика видно, что начиная с 1980 по 2008 годы происходил постепенный рост в производстве компьютерных игр;\n",
    "2. Начиная с 2009 года произошел резкий спад в выпуске игр, который длился до 2013 года;\n",
    "3. В 2013 - 2015 годах наметилась тенденция к постепенному росту числа выпускаемых игр;\n",
    "4. Количество игр, выпущенных в 2016 году уменьшилось с 600 до 500. В связи с тем, что данные за 2016 год могут быть неполными, однозначно говорить о тенденции к снижению объемов выпуска компьютерных игр нельзя;\n",
    "5. Полагаем, что для дальнейшего анализа необходимо использовать последний, относительно стабильный период с 2013 по 2016 годы."
   ]
  },
  {
   "cell_type": "code",
   "execution_count": 11,
   "metadata": {
    "scrolled": false
   },
   "outputs": [
    {
     "data": {
      "text/html": [
       "<div>\n",
       "<style scoped>\n",
       "    .dataframe tbody tr th:only-of-type {\n",
       "        vertical-align: middle;\n",
       "    }\n",
       "\n",
       "    .dataframe tbody tr th {\n",
       "        vertical-align: top;\n",
       "    }\n",
       "\n",
       "    .dataframe thead th {\n",
       "        text-align: right;\n",
       "    }\n",
       "</style>\n",
       "<table border=\"1\" class=\"dataframe\">\n",
       "  <thead>\n",
       "    <tr style=\"text-align: right;\">\n",
       "      <th></th>\n",
       "      <th>total_sales</th>\n",
       "    </tr>\n",
       "    <tr>\n",
       "      <th>platform</th>\n",
       "      <th></th>\n",
       "    </tr>\n",
       "  </thead>\n",
       "  <tbody>\n",
       "    <tr>\n",
       "      <th>GB</th>\n",
       "      <td>2.606735</td>\n",
       "    </tr>\n",
       "    <tr>\n",
       "      <th>NES</th>\n",
       "      <td>2.561735</td>\n",
       "    </tr>\n",
       "    <tr>\n",
       "      <th>GEN</th>\n",
       "      <td>1.050000</td>\n",
       "    </tr>\n",
       "    <tr>\n",
       "      <th>SNES</th>\n",
       "      <td>0.836987</td>\n",
       "    </tr>\n",
       "    <tr>\n",
       "      <th>PS4</th>\n",
       "      <td>0.801378</td>\n",
       "    </tr>\n",
       "  </tbody>\n",
       "</table>\n",
       "</div>"
      ],
      "text/plain": [
       "          total_sales\n",
       "platform             \n",
       "GB           2.606735\n",
       "NES          2.561735\n",
       "GEN          1.050000\n",
       "SNES         0.836987\n",
       "PS4          0.801378"
      ]
     },
     "metadata": {},
     "output_type": "display_data"
    }
   ],
   "source": [
    "games_pivot_platform = games.pivot_table(index = 'platform', values = 'total_sales') #определим платформы, которые имеют наибольшие суммарные продажи\n",
    "display(games_pivot_platform.sort_values(by='total_sales', ascending = False).head(5))\n",
    "#games_pivot_platform.plot(kind='bar', style='o-', figsize=(14,6), grid=True)\n"
   ]
  },
  {
   "cell_type": "code",
   "execution_count": 26,
   "metadata": {},
   "outputs": [
    {
     "data": {
      "image/png": "[encoded data removed]",
      "text/plain": [
       "<Figure size 1600x800 with 1 Axes>"
      ]
     },
     "metadata": {},
     "output_type": "display_data"
    }
   ],
   "source": [
    "# визуализируем суммарный объему продаж для платформы \"GB\" и \"NES\"\n",
    "(games.query('platform == \"GB\"')\n",
    ".pivot_table(index = 'year_of_release', values = 'total_sales', aggfunc = 'sum')\n",
    ".plot(figsize = (16,8), grid=True, style = 'o-', title = 'GB')\n",
    ");\n"
   ]
  },
  {
   "cell_type": "code",
   "execution_count": 27,
   "metadata": {},
   "outputs": [
    {
     "data": {
      "image/png": "[encoded data removed]",
      "text/plain": [
       "<Figure size 1600x800 with 1 Axes>"
      ]
     },
     "metadata": {},
     "output_type": "display_data"
    }
   ],
   "source": [
    "(games.query('platform == \"NES\"')\n",
    ".pivot_table(index = 'year_of_release', values = 'total_sales', aggfunc = 'sum')\n",
    ".plot(figsize = (16,8), grid=True, style = 'o-', title = 'NES')\n",
    ");"
   ]
  },
  {
   "cell_type": "markdown",
   "metadata": {},
   "source": [
    "Выводы:\n",
    "1. Наибольшие суммарные продажи имеют платформы GB и NES;\n",
    "2. При этом из графиков видно, что эти платформы перестали существовать, но в период своего существования выпустили несколько популярных компьютерных игр.\n",
    "3. Срок появления платформы составляет 1 год, срок существования платформы 10 - 12 лет.\n"
   ]
  },
  {
   "cell_type": "code",
   "execution_count": 14,
   "metadata": {},
   "outputs": [],
   "source": [
    "good_games = games.query('year_of_release >= \"01.01.2013\"') #дальнейший анализ будем проводить по играм, выпущенным после 01.01.2013 года\n"
   ]
  },
  {
   "cell_type": "code",
   "execution_count": 28,
   "metadata": {},
   "outputs": [
    {
     "data": {
      "image/png": "[encoded data removed]",
      "text/plain": [
       "<Figure size 1600x800 with 1 Axes>"
      ]
     },
     "metadata": {},
     "output_type": "display_data"
    }
   ],
   "source": [
    "#  визиализируем информацию по суммарным продажам платформ.\n",
    "(good_games\n",
    ".pivot_table(index = 'platform', values = 'total_sales', aggfunc = 'sum')\n",
    ".plot(figsize = (16,8), grid=True, kind = 'bar', title='Количество продаж игр по платформам')\n",
    ");\n"
   ]
  },
  {
   "cell_type": "markdown",
   "metadata": {},
   "source": [
    "Выводы: по итогам визуализации видно, что наибольшие продажи имеет платформа PS4, еще 4 платформы находятся примерно на одном уровне по суммарным продажам. Оставим для дальнейшего анализа только эти 5 перспективных платформ. "
   ]
  },
  {
   "cell_type": "code",
   "execution_count": 16,
   "metadata": {},
   "outputs": [
    {
     "name": "stdout",
     "output_type": "stream",
     "text": [
      "          na_sales     eu_sales     jp_sales  other_sales  critic_score  \\\n",
      "count  1473.000000  1473.000000  1473.000000  1473.000000   1473.000000   \n",
      "mean      0.261521     0.226728     0.073299     0.073170     69.765953   \n",
      "std       0.643654     0.610422     0.276397     0.199082      9.527161   \n",
      "min       0.000000     0.000000     0.000000     0.000000     13.000000   \n",
      "25%       0.000000     0.000000     0.000000     0.000000     66.629101   \n",
      "50%       0.050000     0.040000     0.010000     0.010000     68.619318   \n",
      "75%       0.240000     0.180000     0.050000     0.060000     73.000000   \n",
      "max       9.660000     9.090000     4.350000     3.960000     97.000000   \n",
      "\n",
      "        user_score  total_sales  \n",
      "count  1473.000000  1473.000000  \n",
      "mean      6.778804     0.634718  \n",
      "std       1.250663     1.454708  \n",
      "min       0.200000     0.010000  \n",
      "25%       6.600000     0.050000  \n",
      "50%       7.054044     0.170000  \n",
      "75%       7.500000     0.580000  \n",
      "max       9.200000    21.050000  \n"
     ]
    },
    {
     "data": {
      "image/png": "[encoded data removed]",
      "text/plain": [
       "<Figure size 1000x600 with 1 Axes>"
      ]
     },
     "metadata": {},
     "output_type": "display_data"
    }
   ],
   "source": [
    "# построим диаграммы размаха по объему суммарных продаж для пяти перспективных платформ \n",
    "top = ['PS4', 'PS3', 'XOne', '3DS', 'X360']\n",
    "top_platform = good_games.query('platform == @top') #дальнейший анализ будем проводить по выбранным платформам\n",
    "\n",
    "top_platform.boxplot(by = 'platform', column = 'total_sales', figsize=(10,6))\n",
    "plt.ylim(0, 25)\n",
    "print(top_platform.describe())"
   ]
  },
  {
   "cell_type": "markdown",
   "metadata": {
    "scrolled": true
   },
   "source": [
    "Вывод:\n",
    "- Все платформы из топ-5 выпускали игры, объемы продаж которых были в пределах 1 млн.;\n",
    "- У всех платформ, вошедших в пятерку лучших, были выпущены игры, с объемом продаж более 5 млн.;\n",
    "- Платформы 3DS, PS4, X360 выпустили пять игр, объемы продаж которых были в пределах от 10 до 15 млн.;\n",
    "- Платформа Х360 и PS3 выпустили по одной игре, объем продаж которых достигли 16 и 21 млн. соответственно.\n"
   ]
  },
  {
   "cell_type": "code",
   "execution_count": 29,
   "metadata": {
    "scrolled": false
   },
   "outputs": [
    {
     "name": "stdout",
     "output_type": "stream",
     "text": [
      "коэффициент корреляции: -0.05087603661306392\n"
     ]
    },
    {
     "data": {
      "image/png": "[encoded data removed]",
      "text/plain": [
       "<Figure size 640x480 with 1 Axes>"
      ]
     },
     "metadata": {},
     "output_type": "display_data"
    }
   ],
   "source": [
    "# построим диаграмму рассеивания по платформе \"PS4\" для визуализации зависимости оценок пользователей и объемом продаж \n",
    "PS4 = top_platform.query('platform==\"PS4\"')\n",
    "PS4.plot(x='user_score', y='total_sales', kind='scatter', title='Зависимость продаж от оценок пользователей');\n",
    "print('коэффициент корреляции:', PS4['user_score'].corr(PS4['total_sales']))"
   ]
  },
  {
   "cell_type": "code",
   "execution_count": 18,
   "metadata": {},
   "outputs": [
    {
     "name": "stdout",
     "output_type": "stream",
     "text": [
      "коэффициент корреляции: 0.3545166408809794\n"
     ]
    },
    {
     "data": {
      "image/png": "[encoded data removed]",
      "text/plain": [
       "<Figure size 640x480 with 1 Axes>"
      ]
     },
     "metadata": {},
     "output_type": "display_data"
    }
   ],
   "source": [
    "# построим диаграмму рассеивания по платформе \"PS4\" для визуализации зависимости оценок критиков и объемом продаж \n",
    "PS4 = top_platform.query('platform==\"PS4\"')\n",
    "PS4.plot(x='critic_score', y='total_sales', kind='scatter', title='Зависимость продаж от оценок критиков')\n",
    "print('коэффициент корреляции:', PS4['critic_score'].corr(PS4['total_sales']))"
   ]
  },
  {
   "cell_type": "markdown",
   "metadata": {},
   "source": [
    "Вывод: учитывая результаты визуализации, полученные коэффициенты корреляции, можно сделать выводы об отсутствии зависимости между оценками (критиков, пользователей) и объемом продаж."
   ]
  },
  {
   "cell_type": "code",
   "execution_count": 30,
   "metadata": {},
   "outputs": [
    {
     "data": {
      "image/png": "[encoded data removed]",
      "text/plain": [
       "<Figure size 1600x800 with 1 Axes>"
      ]
     },
     "metadata": {},
     "output_type": "display_data"
    }
   ],
   "source": [
    "# Посмотрим, какие жанры компьютерных игр пользуются  наибольшим спросом\n",
    "(good_games\n",
    ".pivot_table(index = 'genre', values = 'total_sales', aggfunc = 'median')\n",
    ".plot(figsize = (16,8), grid=True, kind = 'bar')\n",
    ");"
   ]
  },
  {
   "cell_type": "markdown",
   "metadata": {},
   "source": [
    "Выводы:\n",
    "1. Наиболее прибыльним жанром копьютерных игр являетс, \"Shooter\", \"Sports\", \"Platform\";\n",
    "2.Наименее популярные жанры - \"Puzzle\", \"Adventure\"."
   ]
  },
  {
   "cell_type": "markdown",
   "metadata": {},
   "source": [
    "## Портрет пользователя каждого региона"
   ]
  },
  {
   "cell_type": "code",
   "execution_count": 20,
   "metadata": {},
   "outputs": [
    {
     "data": {
      "text/html": [
       "<div>\n",
       "<style scoped>\n",
       "    .dataframe tbody tr th:only-of-type {\n",
       "        vertical-align: middle;\n",
       "    }\n",
       "\n",
       "    .dataframe tbody tr th {\n",
       "        vertical-align: top;\n",
       "    }\n",
       "\n",
       "    .dataframe thead th {\n",
       "        text-align: right;\n",
       "    }\n",
       "</style>\n",
       "<table border=\"1\" class=\"dataframe\">\n",
       "  <thead>\n",
       "    <tr style=\"text-align: right;\">\n",
       "      <th></th>\n",
       "      <th>na_sales</th>\n",
       "    </tr>\n",
       "    <tr>\n",
       "      <th>platform</th>\n",
       "      <th></th>\n",
       "    </tr>\n",
       "  </thead>\n",
       "  <tbody>\n",
       "    <tr>\n",
       "      <th>PS4</th>\n",
       "      <td>108.74</td>\n",
       "    </tr>\n",
       "    <tr>\n",
       "      <th>XOne</th>\n",
       "      <td>93.12</td>\n",
       "    </tr>\n",
       "    <tr>\n",
       "      <th>X360</th>\n",
       "      <td>81.66</td>\n",
       "    </tr>\n",
       "    <tr>\n",
       "      <th>PS3</th>\n",
       "      <td>63.50</td>\n",
       "    </tr>\n",
       "    <tr>\n",
       "      <th>3DS</th>\n",
       "      <td>38.20</td>\n",
       "    </tr>\n",
       "  </tbody>\n",
       "</table>\n",
       "</div>"
      ],
      "text/plain": [
       "          na_sales\n",
       "platform          \n",
       "PS4         108.74\n",
       "XOne         93.12\n",
       "X360         81.66\n",
       "PS3          63.50\n",
       "3DS          38.20"
      ]
     },
     "metadata": {},
     "output_type": "display_data"
    },
    {
     "data": {
      "text/html": [
       "<div>\n",
       "<style scoped>\n",
       "    .dataframe tbody tr th:only-of-type {\n",
       "        vertical-align: middle;\n",
       "    }\n",
       "\n",
       "    .dataframe tbody tr th {\n",
       "        vertical-align: top;\n",
       "    }\n",
       "\n",
       "    .dataframe thead th {\n",
       "        text-align: right;\n",
       "    }\n",
       "</style>\n",
       "<table border=\"1\" class=\"dataframe\">\n",
       "  <thead>\n",
       "    <tr style=\"text-align: right;\">\n",
       "      <th></th>\n",
       "      <th>eu_sales</th>\n",
       "    </tr>\n",
       "    <tr>\n",
       "      <th>platform</th>\n",
       "      <th></th>\n",
       "    </tr>\n",
       "  </thead>\n",
       "  <tbody>\n",
       "    <tr>\n",
       "      <th>PS4</th>\n",
       "      <td>141.09</td>\n",
       "    </tr>\n",
       "    <tr>\n",
       "      <th>PS3</th>\n",
       "      <td>67.81</td>\n",
       "    </tr>\n",
       "    <tr>\n",
       "      <th>XOne</th>\n",
       "      <td>51.59</td>\n",
       "    </tr>\n",
       "    <tr>\n",
       "      <th>X360</th>\n",
       "      <td>42.52</td>\n",
       "    </tr>\n",
       "    <tr>\n",
       "      <th>3DS</th>\n",
       "      <td>30.96</td>\n",
       "    </tr>\n",
       "  </tbody>\n",
       "</table>\n",
       "</div>"
      ],
      "text/plain": [
       "          eu_sales\n",
       "platform          \n",
       "PS4         141.09\n",
       "PS3          67.81\n",
       "XOne         51.59\n",
       "X360         42.52\n",
       "3DS          30.96"
      ]
     },
     "metadata": {},
     "output_type": "display_data"
    },
    {
     "data": {
      "text/html": [
       "<div>\n",
       "<style scoped>\n",
       "    .dataframe tbody tr th:only-of-type {\n",
       "        vertical-align: middle;\n",
       "    }\n",
       "\n",
       "    .dataframe tbody tr th {\n",
       "        vertical-align: top;\n",
       "    }\n",
       "\n",
       "    .dataframe thead th {\n",
       "        text-align: right;\n",
       "    }\n",
       "</style>\n",
       "<table border=\"1\" class=\"dataframe\">\n",
       "  <thead>\n",
       "    <tr style=\"text-align: right;\">\n",
       "      <th></th>\n",
       "      <th>jp_sales</th>\n",
       "    </tr>\n",
       "    <tr>\n",
       "      <th>platform</th>\n",
       "      <th></th>\n",
       "    </tr>\n",
       "  </thead>\n",
       "  <tbody>\n",
       "    <tr>\n",
       "      <th>3DS</th>\n",
       "      <td>67.81</td>\n",
       "    </tr>\n",
       "    <tr>\n",
       "      <th>PS3</th>\n",
       "      <td>23.35</td>\n",
       "    </tr>\n",
       "    <tr>\n",
       "      <th>PSV</th>\n",
       "      <td>18.59</td>\n",
       "    </tr>\n",
       "    <tr>\n",
       "      <th>PS4</th>\n",
       "      <td>15.96</td>\n",
       "    </tr>\n",
       "    <tr>\n",
       "      <th>WiiU</th>\n",
       "      <td>10.88</td>\n",
       "    </tr>\n",
       "  </tbody>\n",
       "</table>\n",
       "</div>"
      ],
      "text/plain": [
       "          jp_sales\n",
       "platform          \n",
       "3DS          67.81\n",
       "PS3          23.35\n",
       "PSV          18.59\n",
       "PS4          15.96\n",
       "WiiU         10.88"
      ]
     },
     "metadata": {},
     "output_type": "display_data"
    }
   ],
   "source": [
    "# выведем 5 платформ, имеющих наибольшие продажи отдельно для Северной Америки, Европы и Японии\n",
    "good_platform_na = good_games.pivot_table(index = 'platform', values = 'na_sales', aggfunc = 'sum')\n",
    "display(good_platform_na.sort_values(by='na_sales', ascending=False).head())\n",
    "good_platform_eu = good_games.pivot_table(index = 'platform', values = 'eu_sales', aggfunc = 'sum')\n",
    "display(good_platform_eu.sort_values(by='eu_sales', ascending=False).head())\n",
    "good_platform_jp = good_games.pivot_table(index = 'platform', values = 'jp_sales', aggfunc = 'sum')\n",
    "display(good_platform_jp.sort_values(by='jp_sales', ascending=False).head())\n",
    " "
   ]
  },
  {
   "cell_type": "markdown",
   "metadata": {},
   "source": [
    "Выводы:\n",
    "1. Топ-5 платформ с наибольшими объемами продаж в Северной Америке и Европе одинаков. В него вошли PS4, XOne, X360, PS3, 3DS;\n",
    "2. Абсолютный лидер по продажам в Северной Америке и Европе - это платформа PS4. Продажи, выпущенных ею игр, составили 108,74 млн. и 141,09 млн. соответственно;\n",
    "3. Объемы продаж топ-5 в Северной Америке в диапазоне от 38,2 млн. до 108,74 млн.; в Европе - от 30,96 млн. до 141,09 млн.;\n",
    "4. В Японии пользуются популярностью игры таких платформ, как 3DS, PS3, PSV, PS4, WiiU;\n",
    "5. Наиболее популярные в Японии игры с платформы 3DS. Их объем продаж составил 67,81 млн.;\n",
    "6. Объемы продаж топ-5 в Японии в диапазоне от 10,88 млн. до 67,81 млн.;\n",
    "7. Самые популярные игры в Северной Америке и Европе, выпущенные платформой PS4, в Японии на 4 месте по популярности: их объем продаж составляет 15,96 млн.;\n",
    "8. Объем продаваемых игр в Японии ниже, чем уровень их продаж в Северной Америке и Европе."
   ]
  },
  {
   "cell_type": "code",
   "execution_count": 21,
   "metadata": {},
   "outputs": [
    {
     "data": {
      "text/html": [
       "<div>\n",
       "<style scoped>\n",
       "    .dataframe tbody tr th:only-of-type {\n",
       "        vertical-align: middle;\n",
       "    }\n",
       "\n",
       "    .dataframe tbody tr th {\n",
       "        vertical-align: top;\n",
       "    }\n",
       "\n",
       "    .dataframe thead th {\n",
       "        text-align: right;\n",
       "    }\n",
       "</style>\n",
       "<table border=\"1\" class=\"dataframe\">\n",
       "  <thead>\n",
       "    <tr style=\"text-align: right;\">\n",
       "      <th></th>\n",
       "      <th>na_sales</th>\n",
       "    </tr>\n",
       "    <tr>\n",
       "      <th>genre</th>\n",
       "      <th></th>\n",
       "    </tr>\n",
       "  </thead>\n",
       "  <tbody>\n",
       "    <tr>\n",
       "      <th>Action</th>\n",
       "      <td>126.05</td>\n",
       "    </tr>\n",
       "    <tr>\n",
       "      <th>Shooter</th>\n",
       "      <td>109.74</td>\n",
       "    </tr>\n",
       "    <tr>\n",
       "      <th>Sports</th>\n",
       "      <td>65.27</td>\n",
       "    </tr>\n",
       "    <tr>\n",
       "      <th>Role-Playing</th>\n",
       "      <td>46.40</td>\n",
       "    </tr>\n",
       "    <tr>\n",
       "      <th>Misc</th>\n",
       "      <td>27.49</td>\n",
       "    </tr>\n",
       "  </tbody>\n",
       "</table>\n",
       "</div>"
      ],
      "text/plain": [
       "              na_sales\n",
       "genre                 \n",
       "Action          126.05\n",
       "Shooter         109.74\n",
       "Sports           65.27\n",
       "Role-Playing     46.40\n",
       "Misc             27.49"
      ]
     },
     "metadata": {},
     "output_type": "display_data"
    },
    {
     "data": {
      "text/html": [
       "<div>\n",
       "<style scoped>\n",
       "    .dataframe tbody tr th:only-of-type {\n",
       "        vertical-align: middle;\n",
       "    }\n",
       "\n",
       "    .dataframe tbody tr th {\n",
       "        vertical-align: top;\n",
       "    }\n",
       "\n",
       "    .dataframe thead th {\n",
       "        text-align: right;\n",
       "    }\n",
       "</style>\n",
       "<table border=\"1\" class=\"dataframe\">\n",
       "  <thead>\n",
       "    <tr style=\"text-align: right;\">\n",
       "      <th></th>\n",
       "      <th>eu_sales</th>\n",
       "    </tr>\n",
       "    <tr>\n",
       "      <th>genre</th>\n",
       "      <th></th>\n",
       "    </tr>\n",
       "  </thead>\n",
       "  <tbody>\n",
       "    <tr>\n",
       "      <th>Action</th>\n",
       "      <td>118.13</td>\n",
       "    </tr>\n",
       "    <tr>\n",
       "      <th>Shooter</th>\n",
       "      <td>87.86</td>\n",
       "    </tr>\n",
       "    <tr>\n",
       "      <th>Sports</th>\n",
       "      <td>60.52</td>\n",
       "    </tr>\n",
       "    <tr>\n",
       "      <th>Role-Playing</th>\n",
       "      <td>36.97</td>\n",
       "    </tr>\n",
       "    <tr>\n",
       "      <th>Racing</th>\n",
       "      <td>20.19</td>\n",
       "    </tr>\n",
       "  </tbody>\n",
       "</table>\n",
       "</div>"
      ],
      "text/plain": [
       "              eu_sales\n",
       "genre                 \n",
       "Action          118.13\n",
       "Shooter          87.86\n",
       "Sports           60.52\n",
       "Role-Playing     36.97\n",
       "Racing           20.19"
      ]
     },
     "metadata": {},
     "output_type": "display_data"
    },
    {
     "data": {
      "text/html": [
       "<div>\n",
       "<style scoped>\n",
       "    .dataframe tbody tr th:only-of-type {\n",
       "        vertical-align: middle;\n",
       "    }\n",
       "\n",
       "    .dataframe tbody tr th {\n",
       "        vertical-align: top;\n",
       "    }\n",
       "\n",
       "    .dataframe thead th {\n",
       "        text-align: right;\n",
       "    }\n",
       "</style>\n",
       "<table border=\"1\" class=\"dataframe\">\n",
       "  <thead>\n",
       "    <tr style=\"text-align: right;\">\n",
       "      <th></th>\n",
       "      <th>jp_sales</th>\n",
       "    </tr>\n",
       "    <tr>\n",
       "      <th>genre</th>\n",
       "      <th></th>\n",
       "    </tr>\n",
       "  </thead>\n",
       "  <tbody>\n",
       "    <tr>\n",
       "      <th>Role-Playing</th>\n",
       "      <td>51.04</td>\n",
       "    </tr>\n",
       "    <tr>\n",
       "      <th>Action</th>\n",
       "      <td>40.49</td>\n",
       "    </tr>\n",
       "    <tr>\n",
       "      <th>Misc</th>\n",
       "      <td>9.20</td>\n",
       "    </tr>\n",
       "    <tr>\n",
       "      <th>Fighting</th>\n",
       "      <td>7.65</td>\n",
       "    </tr>\n",
       "    <tr>\n",
       "      <th>Shooter</th>\n",
       "      <td>6.61</td>\n",
       "    </tr>\n",
       "  </tbody>\n",
       "</table>\n",
       "</div>"
      ],
      "text/plain": [
       "              jp_sales\n",
       "genre                 \n",
       "Role-Playing     51.04\n",
       "Action           40.49\n",
       "Misc              9.20\n",
       "Fighting          7.65\n",
       "Shooter           6.61"
      ]
     },
     "metadata": {},
     "output_type": "display_data"
    }
   ],
   "source": [
    "# выведем 5 жанров компьютерных игр, имеющих наибольшие продажи отдельно для Северной Америки, Европы и Японии\n",
    "good_genre_na = good_games.pivot_table(index = 'genre', values = 'na_sales', aggfunc = 'sum')\n",
    "display(good_genre_na.sort_values(by='na_sales', ascending=False).head())\n",
    "good_genre_eu = good_games.pivot_table(index = 'genre', values = 'eu_sales', aggfunc = 'sum')\n",
    "display(good_genre_eu.sort_values(by='eu_sales', ascending=False).head())\n",
    "good_genre_jp = good_games.pivot_table(index = 'genre', values = 'jp_sales', aggfunc = 'sum')\n",
    "display(good_genre_jp.sort_values(by='jp_sales', ascending=False).head())"
   ]
  },
  {
   "cell_type": "markdown",
   "metadata": {},
   "source": [
    "Вывод:\n",
    "1. Наиболее популярные жанры игр в Северной Америке и Европе - это Action, Shooter, Sports, Role-Playing;\n",
    "2. Объемы продаж игр этих жанров в Северной Америке и Европе составляют от 46,40 млн. до 126,05 млн. и от 36,97 млн. до 118,13 млн. соответственно;\n",
    "3. Самым популярным жанром компьютерных игр в странах Северной Америки и Европы - это Action. Объем продаж игр этого жанра составляет 126,05 млн. в Северной Америке и 118,13 млн. в Европе;\n",
    "4. Популярностью в Северной Америке пользуются игры жанра Misc, их объем продаж составляет 27.49 млн.;\n",
    "5. В Европе кроме перечисленных четырех жанров популярностью также пользуется Racing, объем продаж игр этого жанра составил 20,19 млн.;\n",
    "6. В Японии наибольшей популярностью пользуются игры Role-Playing и Action. Их объем продаж составляет 51,04 и 40,49 млн. соответственно;\n",
    "7. Остальные жанры (Misc, Fighting, Shooter) хоть и вошли в топ-5, но их объем продаж в диапазоне от 9,2 млн до 6,61 млн."
   ]
  },
  {
   "cell_type": "code",
   "execution_count": 31,
   "metadata": {},
   "outputs": [
    {
     "data": {
      "image/png": "[encoded data removed]",
      "text/plain": [
       "<Figure size 800x400 with 1 Axes>"
      ]
     },
     "metadata": {},
     "output_type": "display_data"
    },
    {
     "data": {
      "image/png": "[encoded data removed]",
      "text/plain": [
       "<Figure size 800x400 with 1 Axes>"
      ]
     },
     "metadata": {},
     "output_type": "display_data"
    },
    {
     "data": {
      "image/png": "[encoded data removed]",
      "text/plain": [
       "<Figure size 800x400 with 1 Axes>"
      ]
     },
     "metadata": {},
     "output_type": "display_data"
    }
   ],
   "source": [
    "# посмотрим распределение компьютерных игр в Северной Америке, Европе и Японии по рейтингу.\n",
    "(good_games\n",
    ".pivot_table(index = 'rating', values = 'na_sales', aggfunc = 'sum')\n",
    ".plot(figsize = (8,4), grid=True, kind = 'bar', title='rating_na_sales')\n",
    ")\n",
    "(good_games\n",
    ".pivot_table(index = 'rating', values = 'eu_sales', aggfunc = 'sum')\n",
    ".plot(figsize = (8,4), grid=True, kind = 'bar', title='rating_eu_sales')\n",
    ")\n",
    "(good_games\n",
    ".pivot_table(index = 'rating', values = 'jp_sales', aggfunc = 'sum')\n",
    ".plot(figsize = (8,4), grid=True, kind = 'bar', title='rating_jp_sales')\n",
    ");"
   ]
  },
  {
   "cell_type": "markdown",
   "metadata": {},
   "source": [
    "Выводы:\n",
    "1. Наиболее продаваемые в Северной Америке и Европе компьютерные игры - это игры для людей старше 17 лет: порядка 160 млн. в Северной Америке и 140 млн. - в Европе;\n",
    "2. Вторыми по популярности игры - это игры для детей от 6 лет: порядка 80 млн. как в Северной Америке, так и Европе;\n",
    "3. В диапазоне от 40 до 60 млн. на обеих территориях - это игры для детей от 10 лет и игры для подростков от 13 лет.\n",
    "4. Порядка 80 млн. игр, продаваемых в Америке и Европе, не имеют рейтинга ESRB;\n",
    "5. Более 80 млн. игр, продаваемых в Японии, не имеют рейтинга ESRB;\n",
    "6. В Японии наибольшей популярностью пользуются игры для подростков от 13 лет, их объем продаж составляет более 20 млн.;\n",
    "7. Вторые по популярности в Японии - это игры для детей от 6 лет (15 млн.)\n",
    "8. Игры для людей старше 17 лет в Японии по популярности занимают только третье место: их объем продаж в пределах 14 млн.;\n",
    "9. И наименее популярные игры, также как в Европе и Америке, - это игры для детей от 10 лет (объем продаж составляет 6 млн.)"
   ]
  },
  {
   "cell_type": "markdown",
   "metadata": {},
   "source": [
    "## Проверка гипотез"
   ]
  },
  {
   "cell_type": "markdown",
   "metadata": {},
   "source": [
    "Проверим гипотезу о том, что средние пользовательские рейтинги платформ Xbox One и PC одинаковые\n",
    "\n",
    "H0: Средние пользовательские рейтинги платформы Xbox One равны средним пользовательским рейтингам платформы PC;\n",
    "\n",
    "H1: Средние пользовательские рейтинги платформы Xbox One не равны средним пользовательским рейтингам платформы PC."
   ]
  },
  {
   "cell_type": "code",
   "execution_count": 33,
   "metadata": {},
   "outputs": [
    {
     "name": "stdout",
     "output_type": "stream",
     "text": [
      "р-значение: 0.07111304493996078\n",
      "Не получится отвергнуть нулевую гипотезу\n"
     ]
    }
   ],
   "source": [
    "from scipy import stats as st\n",
    "\n",
    "results = st.ttest_ind(\n",
    "    good_games[good_games['platform'] == 'XOne']['user_score'],\n",
    "    good_games[good_games['platform'] == 'PC']['user_score'],\n",
    "    equal_var = False\n",
    ")\n",
    "\n",
    "alpfa = .05\n",
    "\n",
    "print('р-значение:', results.pvalue)\n",
    "if results.pvalue < alpfa:\n",
    "    print('Отвергаем нулевую гипотезу')\n",
    "else:\n",
    "    print('Не получится отвергнуть нулевую гипотезу')"
   ]
  },
  {
   "cell_type": "markdown",
   "metadata": {},
   "source": [
    "Вывод: учитывая, что р-значение получилось больше, чем установленный уровень значимости, нулевую гипотезу следует принять. Следовательно можно говорить о том, что средние пользовательские рейтинги платформ Xbox One и PC одинаковые."
   ]
  },
  {
   "cell_type": "markdown",
   "metadata": {},
   "source": [
    "Проверим гипотезу о том, что средние пользовательские рейтинги жанров Action (англ. «действие», экшн-игры) и Sports (англ. «спортивные соревнования») разные.\n",
    "H0: Средние пользовательские рейтинги жанров Action и Sports равны;\n",
    "H1: Средние пользовательские рейтинги жанров Action (англ. «действие», экшн-игры) и Sports (англ. «спортивные соревнования») не равны."
   ]
  },
  {
   "cell_type": "code",
   "execution_count": 34,
   "metadata": {},
   "outputs": [
    {
     "name": "stdout",
     "output_type": "stream",
     "text": [
      "р-значение: 2.5023320949479204e-21\n",
      "Отвергаем нулевую гипотезу\n"
     ]
    }
   ],
   "source": [
    "results = st.ttest_ind(\n",
    "    good_games[good_games['genre'] == 'Action']['user_score'],\n",
    "    good_games[good_games['genre'] == 'Sports']['user_score'],\n",
    "    equal_var = False\n",
    ")\n",
    "\n",
    "alpfa = .05\n",
    "\n",
    "print('р-значение:', results.pvalue)\n",
    "if results.pvalue < alpfa:\n",
    "    print('Отвергаем нулевую гипотезу')\n",
    "else:\n",
    "    print('Не получится отвергнуть нулевую гипотезу')"
   ]
  },
  {
   "cell_type": "markdown",
   "metadata": {},
   "source": [
    "Вывод: учитывая, что р-значение получилось меньше, чем установленный уровень значимости, нулевую гипотезу следует отвергнуть и соответственно принять альтернативную гипотезу. Следовательно можно говорить о том, что средние пользовательские рейтинги жанров Action и Sports разные."
   ]
  },
  {
   "cell_type": "markdown",
   "metadata": {},
   "source": [
    "Для проверки гипотез использовался параметрический критерий t-критерий Стьюдента.\n",
    "\n",
    "Пояснения: Параметричесие критерии служат для проверки гипотез о параметрах распределения. Учитывая, что гипотезы касались исследования распределений средних пользовательских рейтингов, а также большой объем выборки (который чем больше, тем стремиться к нормальному), в целях исследования нужно применять параметрические критерии.\n",
    "t-критерий Стьюдента позволяет прямо оценить различия в средних, полученных в двух выборках.\n"
   ]
  },
  {
   "cell_type": "markdown",
   "metadata": {},
   "source": [
    "## Выводы"
   ]
  },
  {
   "cell_type": "markdown",
   "metadata": {},
   "source": [
    "1. Информация о компьютерных играх представлена за период с 1980 по 2016 годы. При этом начиная с 1980 по 2008 годы происходил постепенный рост в производстве компьютерных игр; с 2009 года произошел резкий спад в выпуске игр, который длился до 2013 года. В 2013 - 2015 годах наметилась тенденция к постепенному росту числа выпускаемых игр. В связи с тем, что данные за 2016 год могут быть неполными, однозначно делать вывод по 2016 году еще рано;\n",
    "2. Наибольшие суммарные продажи имеют платформы GB и NES, которые уже перестали существовать. Вместе с тем, в период своего существования выпустили несколько популярных компьютерных игр;\n",
    "3. Срок появления платформы составляет 1 год, срок существования платформы 10 - 12 лет;\n",
    "4. Дальнейший анализ строится по играм, выпущенным с 2013 по 2016 годы;\n",
    "5. По объему продаж лидерами являются платформы PS4 - объем продаж составил более 300 млн. копий игр; PS3 - более 175 млн. продаж; 3DS, XOne, X360 имеют уровень продаж от 130 до 160 млн.;\n",
    "6. Большая часть выпущенных игр перечисленных выше платформ имели продажи до 5 млн, вместе с тем, указанные платформы выпустили хиты в мире игр, в связи с чем объем продаж этих игр варьируется от 10 до 300 млн. копий; \n",
    "7. Наиболее популярными жанрами компьютерных игр является \"Action\", \"Shooter\", \"Sports\", \"Role-Playing\"; наименее популярными \"Simulation\", \"Puzzle\";\n",
    "8. Оценки критиков и самих пользователей не влияют на популярность игр и их объем продаж;\n",
    "9. Картина по популярным жанрам, платформам и рейтингам схожа в странах Северной Америке и Европе;\n",
    "10. Объем продаваемых игр в Японии более чем в 2 раза ниже, чем уровень их продаж в Северной Америке и Европе;\n",
    "11. Наиболее популярными платформами в Северной Америке и Европе являются PS4, XOne, X360, PS3, 3DS.; в Японии популярны игры таких платформ, как 3DS, PS3, PSV, PS4, WiiU;\n",
    "12. Абсолютный лидер по продажам в Северной Америке и Европе - это платформа PS4. Продажи, выпущенных ею игр, составили 108,74 млн. и 141,09 млн. соответственно; в Японии платформа PS4 на 4 месте по популярности: объем продаж игр составляет 15,96 млн.;\n",
    "13. Наиболее популярные в Японии игры, выпущенные платформой 3DS. Их объем продаж составил 67,81 млн.;\n",
    "14. Наиболее популярные жанры игр в Северной Америке и Европе - это Action, Shooter, Sports, Role-Playing; объемы продаж игр этих жанров в Северной Америке и Европе составляют от 46,40 млн. до 126,05 млн. и от 36,97 млн. до 118,13 млн. соответственно;\n",
    "15. Самым популярным жанром компьютерных игр в странах Северной Америки и Европы - это Action с объемом продаж - 126,05 млн. в Северной Америке и 118,13 млн. в Европе;\n",
    "16. В Японии наибольшей популярностью пользуются игры Role-Playing и Action с объемом продаж 51,04 и 40,49 млн. соответственно; остальные жанры (Misc, Fighting, Shooter) хоть и вошли в топ-5, но их объем продаж в диапазоне от 9,2 млн до 6,61 млн.\n",
    "17. Наиболее продаваемые в Северной Америке и Европе компьютерные игры - это игры для людей старше 17 лет: порядка 160 млн. в Северной Америке и 140 млн. - в Европе; вторые по популярности игры - это игры для детей от 6 лет: порядка 80 млн. как в Северной Америке, так и Европе;\n",
    "18. В Японии наибольшей популярностью пользуются игры для подростков от 13 лет, их объем продаж составляет более 20 млн.; вторые по популярности в Японии - это игры для детей от 6 лет (15 млн.);\n",
    "19. Порядка 80 млн. продаваемых игр в трех странах - это игры, не имеющие рейтинга ESRB;\n",
    "20. Наименее популярные игры в Америке, Европе и Японии - это игры для детей от 10 лет.\n"
   ]
  },
  {
   "cell_type": "code",
   "execution_count": null,
   "metadata": {},
   "outputs": [],
   "source": []
  }
 ],
 "metadata": {
  "ExecuteTimeLog": [
   {
    "duration": 524,
    "start_time": "2022-10-03T16:03:40.992Z"
   },
   {
    "duration": 77,
    "start_time": "2022-10-03T16:05:10.760Z"
   },
   {
    "duration": 10,
    "start_time": "2022-10-03T16:09:30.520Z"
   },
   {
    "duration": 10,
    "start_time": "2022-10-03T16:48:01.954Z"
   },
   {
    "duration": 70,
    "start_time": "2022-10-03T16:56:04.726Z"
   },
   {
    "duration": 21,
    "start_time": "2022-10-03T16:56:19.540Z"
   },
   {
    "duration": 664,
    "start_time": "2022-10-03T17:02:28.886Z"
   },
   {
    "duration": 23,
    "start_time": "2022-10-03T17:05:36.971Z"
   },
   {
    "duration": 6,
    "start_time": "2022-10-03T17:14:19.463Z"
   },
   {
    "duration": 7,
    "start_time": "2022-10-03T17:15:05.358Z"
   },
   {
    "duration": 101,
    "start_time": "2022-10-03T17:21:18.328Z"
   },
   {
    "duration": 16,
    "start_time": "2022-10-03T17:21:35.550Z"
   },
   {
    "duration": 9,
    "start_time": "2022-10-03T17:23:16.590Z"
   },
   {
    "duration": 13,
    "start_time": "2022-10-03T17:26:22.789Z"
   },
   {
    "duration": 13,
    "start_time": "2022-10-03T17:51:19.862Z"
   },
   {
    "duration": 12,
    "start_time": "2022-10-03T17:51:43.310Z"
   },
   {
    "duration": 7,
    "start_time": "2022-10-03T17:53:24.562Z"
   },
   {
    "duration": 10,
    "start_time": "2022-10-03T17:53:37.968Z"
   },
   {
    "duration": 10,
    "start_time": "2022-10-03T17:53:55.293Z"
   },
   {
    "duration": 14,
    "start_time": "2022-10-03T17:55:43.488Z"
   },
   {
    "duration": 12,
    "start_time": "2022-10-03T18:02:09.055Z"
   },
   {
    "duration": 8,
    "start_time": "2022-10-03T18:03:49.799Z"
   },
   {
    "duration": 58,
    "start_time": "2022-10-03T18:08:49.851Z"
   },
   {
    "duration": 9,
    "start_time": "2022-10-03T18:09:01.671Z"
   },
   {
    "duration": 12,
    "start_time": "2022-10-03T18:09:24.229Z"
   },
   {
    "duration": 14,
    "start_time": "2022-10-03T18:10:57.693Z"
   },
   {
    "duration": 19,
    "start_time": "2022-10-03T18:12:43.982Z"
   },
   {
    "duration": 22,
    "start_time": "2022-10-03T18:13:18.357Z"
   },
   {
    "duration": 14,
    "start_time": "2022-10-03T18:16:53.898Z"
   },
   {
    "duration": 50,
    "start_time": "2022-10-03T18:28:26.829Z"
   },
   {
    "duration": 41,
    "start_time": "2022-10-03T18:28:40.528Z"
   },
   {
    "duration": 114,
    "start_time": "2022-10-03T18:29:55.670Z"
   },
   {
    "duration": 282,
    "start_time": "2022-10-03T18:30:02.319Z"
   },
   {
    "duration": 19,
    "start_time": "2022-10-03T18:30:51.806Z"
   },
   {
    "duration": 49,
    "start_time": "2022-10-03T18:31:10.528Z"
   },
   {
    "duration": 48,
    "start_time": "2022-10-03T18:32:53.665Z"
   },
   {
    "duration": 35,
    "start_time": "2022-10-03T18:43:31.061Z"
   },
   {
    "duration": 38,
    "start_time": "2022-10-03T18:43:52.827Z"
   },
   {
    "duration": 35,
    "start_time": "2022-10-03T18:44:35.277Z"
   },
   {
    "duration": 52,
    "start_time": "2022-10-03T18:45:59.062Z"
   },
   {
    "duration": 69,
    "start_time": "2022-10-03T18:46:39.886Z"
   },
   {
    "duration": 97,
    "start_time": "2022-10-03T18:47:31.480Z"
   },
   {
    "duration": 17,
    "start_time": "2022-10-03T18:50:04.585Z"
   },
   {
    "duration": 516,
    "start_time": "2022-10-03T18:51:44.496Z"
   },
   {
    "duration": 36,
    "start_time": "2022-10-03T18:53:26.588Z"
   },
   {
    "duration": 10,
    "start_time": "2022-10-03T18:57:48.246Z"
   },
   {
    "duration": 15,
    "start_time": "2022-10-03T18:58:22.601Z"
   },
   {
    "duration": 6,
    "start_time": "2022-10-03T19:00:20.077Z"
   },
   {
    "duration": 13,
    "start_time": "2022-10-03T19:00:57.558Z"
   },
   {
    "duration": 6,
    "start_time": "2022-10-03T19:01:15.756Z"
   },
   {
    "duration": 7,
    "start_time": "2022-10-03T19:01:41.523Z"
   },
   {
    "duration": 62,
    "start_time": "2022-10-03T19:03:32.930Z"
   },
   {
    "duration": 3,
    "start_time": "2022-10-03T19:04:00.471Z"
   },
   {
    "duration": 28,
    "start_time": "2022-10-03T19:04:18.735Z"
   },
   {
    "duration": 21,
    "start_time": "2022-10-03T19:04:37.714Z"
   },
   {
    "duration": 913,
    "start_time": "2022-10-03T19:09:35.711Z"
   },
   {
    "duration": 131,
    "start_time": "2022-10-03T19:10:37.276Z"
   },
   {
    "duration": 171,
    "start_time": "2022-10-03T19:11:24.338Z"
   },
   {
    "duration": 133,
    "start_time": "2022-10-03T19:25:51.251Z"
   },
   {
    "duration": 519,
    "start_time": "2022-10-04T15:57:07.777Z"
   },
   {
    "duration": 828,
    "start_time": "2022-10-04T15:57:45.427Z"
   },
   {
    "duration": 66,
    "start_time": "2022-10-04T15:58:04.090Z"
   },
   {
    "duration": 11,
    "start_time": "2022-10-04T15:58:04.158Z"
   },
   {
    "duration": 20,
    "start_time": "2022-10-04T15:58:04.171Z"
   },
   {
    "duration": 24,
    "start_time": "2022-10-04T15:58:04.194Z"
   },
   {
    "duration": 8,
    "start_time": "2022-10-04T15:58:04.220Z"
   },
   {
    "duration": 14,
    "start_time": "2022-10-04T15:58:04.230Z"
   },
   {
    "duration": 70,
    "start_time": "2022-10-04T15:58:04.245Z"
   },
   {
    "duration": 0,
    "start_time": "2022-10-04T15:58:04.316Z"
   },
   {
    "duration": 98,
    "start_time": "2022-10-04T15:58:12.961Z"
   },
   {
    "duration": 531,
    "start_time": "2022-10-04T15:58:19.472Z"
   },
   {
    "duration": 162,
    "start_time": "2022-10-04T15:58:41.894Z"
   },
   {
    "duration": 152,
    "start_time": "2022-10-04T15:59:04.069Z"
   },
   {
    "duration": 142,
    "start_time": "2022-10-04T16:04:18.164Z"
   },
   {
    "duration": 101,
    "start_time": "2022-10-04T16:05:09.812Z"
   },
   {
    "duration": 94,
    "start_time": "2022-10-04T16:07:44.767Z"
   },
   {
    "duration": 21,
    "start_time": "2022-10-04T16:12:42.846Z"
   },
   {
    "duration": 7,
    "start_time": "2022-10-04T16:12:43.930Z"
   },
   {
    "duration": 7,
    "start_time": "2022-10-04T16:12:45.376Z"
   },
   {
    "duration": 21,
    "start_time": "2022-10-04T16:13:41.266Z"
   },
   {
    "duration": 7,
    "start_time": "2022-10-04T16:13:43.270Z"
   },
   {
    "duration": 21,
    "start_time": "2022-10-04T16:14:01.954Z"
   },
   {
    "duration": 21,
    "start_time": "2022-10-04T16:21:15.493Z"
   },
   {
    "duration": 21,
    "start_time": "2022-10-04T16:22:47.168Z"
   },
   {
    "duration": 12,
    "start_time": "2022-10-04T16:28:07.712Z"
   },
   {
    "duration": 94,
    "start_time": "2022-10-04T16:29:11.440Z"
   },
   {
    "duration": 15,
    "start_time": "2022-10-04T16:34:55.608Z"
   },
   {
    "duration": 4,
    "start_time": "2022-10-04T16:40:29.746Z"
   },
   {
    "duration": 18,
    "start_time": "2022-10-04T16:40:48.287Z"
   },
   {
    "duration": 17,
    "start_time": "2022-10-04T16:50:11.098Z"
   },
   {
    "duration": 8,
    "start_time": "2022-10-04T16:50:25.576Z"
   },
   {
    "duration": 183,
    "start_time": "2022-10-04T16:51:53.621Z"
   },
   {
    "duration": 167,
    "start_time": "2022-10-04T16:54:36.576Z"
   },
   {
    "duration": 138,
    "start_time": "2022-10-04T16:54:55.157Z"
   },
   {
    "duration": 235,
    "start_time": "2022-10-04T16:55:10.111Z"
   },
   {
    "duration": 311,
    "start_time": "2022-10-04T16:55:30.643Z"
   },
   {
    "duration": 184,
    "start_time": "2022-10-04T16:58:17.379Z"
   },
   {
    "duration": 197,
    "start_time": "2022-10-04T16:59:59.753Z"
   },
   {
    "duration": 206,
    "start_time": "2022-10-04T17:01:24.881Z"
   },
   {
    "duration": 206,
    "start_time": "2022-10-04T17:04:31.822Z"
   },
   {
    "duration": 17,
    "start_time": "2022-10-04T17:15:27.795Z"
   },
   {
    "duration": 9,
    "start_time": "2022-10-04T17:15:53.231Z"
   },
   {
    "duration": 14,
    "start_time": "2022-10-04T17:16:23.718Z"
   },
   {
    "duration": 149,
    "start_time": "2022-10-04T17:17:09.008Z"
   },
   {
    "duration": 156,
    "start_time": "2022-10-04T17:17:44.964Z"
   },
   {
    "duration": 157,
    "start_time": "2022-10-04T17:18:07.671Z"
   },
   {
    "duration": 169,
    "start_time": "2022-10-04T17:28:25.995Z"
   },
   {
    "duration": 220,
    "start_time": "2022-10-04T17:28:37.831Z"
   },
   {
    "duration": 294,
    "start_time": "2022-10-04T17:28:49.803Z"
   },
   {
    "duration": 17,
    "start_time": "2022-10-04T17:32:51.683Z"
   },
   {
    "duration": 220,
    "start_time": "2022-10-04T17:33:07.450Z"
   },
   {
    "duration": 216,
    "start_time": "2022-10-04T17:35:20.837Z"
   },
   {
    "duration": 59,
    "start_time": "2022-10-04T17:37:33.486Z"
   },
   {
    "duration": 10,
    "start_time": "2022-10-04T17:37:42.396Z"
   },
   {
    "duration": 9,
    "start_time": "2022-10-04T17:38:48.463Z"
   },
   {
    "duration": 64,
    "start_time": "2022-10-04T17:52:16.003Z"
   },
   {
    "duration": 42,
    "start_time": "2022-10-04T17:54:22.232Z"
   },
   {
    "duration": 45,
    "start_time": "2022-10-04T17:54:37.612Z"
   },
   {
    "duration": 9,
    "start_time": "2022-10-04T17:54:48.013Z"
   },
   {
    "duration": 11,
    "start_time": "2022-10-04T17:55:07.456Z"
   },
   {
    "duration": 11,
    "start_time": "2022-10-04T17:56:04.463Z"
   },
   {
    "duration": 679,
    "start_time": "2022-10-04T17:56:33.588Z"
   },
   {
    "duration": 777,
    "start_time": "2022-10-04T17:58:08.916Z"
   },
   {
    "duration": 57,
    "start_time": "2022-10-04T17:58:25.386Z"
   },
   {
    "duration": 61,
    "start_time": "2022-10-04T17:58:35.431Z"
   },
   {
    "duration": 8,
    "start_time": "2022-10-04T17:58:35.494Z"
   },
   {
    "duration": 15,
    "start_time": "2022-10-04T17:58:35.504Z"
   },
   {
    "duration": 11,
    "start_time": "2022-10-04T17:58:35.521Z"
   },
   {
    "duration": 17,
    "start_time": "2022-10-04T17:58:35.534Z"
   },
   {
    "duration": 10,
    "start_time": "2022-10-04T17:58:35.553Z"
   },
   {
    "duration": 99,
    "start_time": "2022-10-04T17:58:35.565Z"
   },
   {
    "duration": 146,
    "start_time": "2022-10-04T17:58:35.667Z"
   },
   {
    "duration": 16,
    "start_time": "2022-10-04T17:58:35.815Z"
   },
   {
    "duration": 212,
    "start_time": "2022-10-04T17:58:35.832Z"
   },
   {
    "duration": 230,
    "start_time": "2022-10-04T17:58:36.046Z"
   },
   {
    "duration": 195,
    "start_time": "2022-10-04T17:59:12.910Z"
   },
   {
    "duration": 170,
    "start_time": "2022-10-04T17:59:26.580Z"
   },
   {
    "duration": 155,
    "start_time": "2022-10-04T17:59:42.623Z"
   },
   {
    "duration": 10,
    "start_time": "2022-10-04T18:03:44.581Z"
   },
   {
    "duration": 136,
    "start_time": "2022-10-04T18:04:22.029Z"
   },
   {
    "duration": 143,
    "start_time": "2022-10-04T18:04:44.933Z"
   },
   {
    "duration": 14,
    "start_time": "2022-10-04T18:06:04.113Z"
   },
   {
    "duration": 16,
    "start_time": "2022-10-04T18:07:20.827Z"
   },
   {
    "duration": 19,
    "start_time": "2022-10-04T18:07:46.512Z"
   },
   {
    "duration": 12,
    "start_time": "2022-10-04T18:11:08.251Z"
   },
   {
    "duration": 13,
    "start_time": "2022-10-04T18:11:49.881Z"
   },
   {
    "duration": 15,
    "start_time": "2022-10-04T18:12:34.230Z"
   },
   {
    "duration": 12,
    "start_time": "2022-10-04T18:12:51.372Z"
   },
   {
    "duration": 46,
    "start_time": "2022-10-04T18:19:33.682Z"
   },
   {
    "duration": 70,
    "start_time": "2022-10-04T18:20:10.384Z"
   },
   {
    "duration": 53,
    "start_time": "2022-10-04T18:21:33.647Z"
   },
   {
    "duration": 51,
    "start_time": "2022-10-04T18:22:04.279Z"
   },
   {
    "duration": 153,
    "start_time": "2022-10-04T18:22:29.650Z"
   },
   {
    "duration": 160,
    "start_time": "2022-10-04T18:24:36.794Z"
   },
   {
    "duration": 233,
    "start_time": "2022-10-04T18:26:08.223Z"
   },
   {
    "duration": 48,
    "start_time": "2022-10-04T18:26:43.179Z"
   },
   {
    "duration": 164,
    "start_time": "2022-10-04T18:27:00.099Z"
   },
   {
    "duration": 138,
    "start_time": "2022-10-04T18:28:28.175Z"
   },
   {
    "duration": 17,
    "start_time": "2022-10-04T18:28:54.437Z"
   },
   {
    "duration": 154,
    "start_time": "2022-10-04T18:29:13.055Z"
   },
   {
    "duration": 172,
    "start_time": "2022-10-04T18:30:29.096Z"
   },
   {
    "duration": 168,
    "start_time": "2022-10-04T18:30:45.707Z"
   },
   {
    "duration": 174,
    "start_time": "2022-10-04T18:32:19.453Z"
   },
   {
    "duration": 42,
    "start_time": "2022-10-04T18:57:53.327Z"
   },
   {
    "duration": 16,
    "start_time": "2022-10-04T18:58:24.088Z"
   },
   {
    "duration": 12,
    "start_time": "2022-10-04T18:58:48.284Z"
   },
   {
    "duration": 52,
    "start_time": "2022-10-05T16:55:34.995Z"
   },
   {
    "duration": 888,
    "start_time": "2022-10-05T16:55:46.737Z"
   },
   {
    "duration": 9,
    "start_time": "2022-10-05T16:55:47.627Z"
   },
   {
    "duration": 11,
    "start_time": "2022-10-05T16:55:47.638Z"
   },
   {
    "duration": 12,
    "start_time": "2022-10-05T16:55:47.650Z"
   },
   {
    "duration": 7,
    "start_time": "2022-10-05T16:55:47.664Z"
   },
   {
    "duration": 11,
    "start_time": "2022-10-05T16:55:47.673Z"
   },
   {
    "duration": 113,
    "start_time": "2022-10-05T16:55:47.685Z"
   },
   {
    "duration": 164,
    "start_time": "2022-10-05T16:55:47.800Z"
   },
   {
    "duration": 17,
    "start_time": "2022-10-05T16:55:47.966Z"
   },
   {
    "duration": 249,
    "start_time": "2022-10-05T16:55:47.984Z"
   },
   {
    "duration": 161,
    "start_time": "2022-10-05T16:55:48.235Z"
   },
   {
    "duration": 302,
    "start_time": "2022-10-05T16:55:48.397Z"
   },
   {
    "duration": 199,
    "start_time": "2022-10-05T16:55:48.701Z"
   },
   {
    "duration": 16,
    "start_time": "2022-10-05T16:55:48.903Z"
   },
   {
    "duration": 1740,
    "start_time": "2022-10-05T17:22:32.239Z"
   },
   {
    "duration": 185,
    "start_time": "2022-10-05T17:23:17.775Z"
   },
   {
    "duration": 273,
    "start_time": "2022-10-05T17:24:48.526Z"
   },
   {
    "duration": 182,
    "start_time": "2022-10-05T17:28:59.720Z"
   },
   {
    "duration": 1729,
    "start_time": "2022-10-05T17:29:43.198Z"
   },
   {
    "duration": 187,
    "start_time": "2022-10-05T17:31:53.041Z"
   },
   {
    "duration": 193,
    "start_time": "2022-10-05T17:33:17.604Z"
   },
   {
    "duration": 53,
    "start_time": "2022-10-05T17:39:16.825Z"
   },
   {
    "duration": 48,
    "start_time": "2022-10-05T17:39:48.534Z"
   },
   {
    "duration": 1027,
    "start_time": "2022-10-05T17:40:34.190Z"
   },
   {
    "duration": 195,
    "start_time": "2022-10-05T17:41:09.881Z"
   },
   {
    "duration": 40,
    "start_time": "2022-10-05T17:42:43.562Z"
   },
   {
    "duration": 192,
    "start_time": "2022-10-05T17:42:53.387Z"
   },
   {
    "duration": 221,
    "start_time": "2022-10-05T17:44:40.805Z"
   },
   {
    "duration": 208,
    "start_time": "2022-10-05T17:45:08.031Z"
   },
   {
    "duration": 181,
    "start_time": "2022-10-05T17:47:44.451Z"
   },
   {
    "duration": 190,
    "start_time": "2022-10-05T17:49:05.922Z"
   },
   {
    "duration": 261,
    "start_time": "2022-10-05T17:49:20.087Z"
   },
   {
    "duration": 18,
    "start_time": "2022-10-05T17:59:11.437Z"
   },
   {
    "duration": 11,
    "start_time": "2022-10-05T17:59:37.582Z"
   },
   {
    "duration": 201,
    "start_time": "2022-10-05T18:01:08.948Z"
   },
   {
    "duration": 199,
    "start_time": "2022-10-05T18:02:13.819Z"
   },
   {
    "duration": 90,
    "start_time": "2022-10-05T18:28:47.363Z"
   },
   {
    "duration": 121,
    "start_time": "2022-10-05T18:29:58.268Z"
   },
   {
    "duration": 113,
    "start_time": "2022-10-05T18:30:16.630Z"
   },
   {
    "duration": 125,
    "start_time": "2022-10-05T18:33:03.949Z"
   },
   {
    "duration": 104,
    "start_time": "2022-10-05T18:35:02.371Z"
   },
   {
    "duration": 86,
    "start_time": "2022-10-05T18:35:35.601Z"
   },
   {
    "duration": 97,
    "start_time": "2022-10-05T18:35:47.460Z"
   },
   {
    "duration": 66,
    "start_time": "2022-10-05T18:43:56.270Z"
   },
   {
    "duration": 71,
    "start_time": "2022-10-05T18:45:30.100Z"
   },
   {
    "duration": 88,
    "start_time": "2022-10-05T18:46:14.241Z"
   },
   {
    "duration": 23,
    "start_time": "2022-10-05T18:46:53.908Z"
   },
   {
    "duration": 16,
    "start_time": "2022-10-05T18:47:19.099Z"
   },
   {
    "duration": 104,
    "start_time": "2022-10-05T18:47:45.454Z"
   },
   {
    "duration": 13,
    "start_time": "2022-10-05T18:49:09.274Z"
   },
   {
    "duration": 22,
    "start_time": "2022-10-05T18:50:05.656Z"
   },
   {
    "duration": 5,
    "start_time": "2022-10-05T18:51:30.484Z"
   },
   {
    "duration": 5,
    "start_time": "2022-10-05T18:51:45.096Z"
   },
   {
    "duration": 12,
    "start_time": "2022-10-05T18:55:52.149Z"
   },
   {
    "duration": 25,
    "start_time": "2022-10-05T18:56:19.369Z"
   },
   {
    "duration": 55,
    "start_time": "2022-10-05T18:56:39.156Z"
   },
   {
    "duration": 45,
    "start_time": "2022-10-05T18:57:13.673Z"
   },
   {
    "duration": 28,
    "start_time": "2022-10-05T18:58:19.794Z"
   },
   {
    "duration": 90,
    "start_time": "2022-10-05T19:01:49.997Z"
   },
   {
    "duration": 143,
    "start_time": "2022-10-05T19:06:41.167Z"
   },
   {
    "duration": 58,
    "start_time": "2022-10-05T19:07:41.554Z"
   },
   {
    "duration": 184,
    "start_time": "2022-10-05T19:07:53.701Z"
   },
   {
    "duration": 155,
    "start_time": "2022-10-05T19:08:40.216Z"
   },
   {
    "duration": 48,
    "start_time": "2022-10-05T19:10:33.407Z"
   },
   {
    "duration": 146,
    "start_time": "2022-10-05T19:10:43.192Z"
   },
   {
    "duration": 64,
    "start_time": "2022-10-05T19:12:47.462Z"
   },
   {
    "duration": 67,
    "start_time": "2022-10-05T19:17:34.822Z"
   },
   {
    "duration": 104,
    "start_time": "2022-10-05T19:17:51.784Z"
   },
   {
    "duration": 104,
    "start_time": "2022-10-05T19:17:59.831Z"
   },
   {
    "duration": 64,
    "start_time": "2022-10-05T19:19:07.291Z"
   },
   {
    "duration": 109,
    "start_time": "2022-10-05T19:19:40.656Z"
   },
   {
    "duration": 410,
    "start_time": "2022-10-05T19:19:58.173Z"
   },
   {
    "duration": 147,
    "start_time": "2022-10-05T19:20:59.657Z"
   },
   {
    "duration": 150,
    "start_time": "2022-10-05T19:25:00.538Z"
   },
   {
    "duration": 156,
    "start_time": "2022-10-05T19:25:43.147Z"
   },
   {
    "duration": 903,
    "start_time": "2022-10-06T16:05:24.360Z"
   },
   {
    "duration": 10,
    "start_time": "2022-10-06T16:05:25.265Z"
   },
   {
    "duration": 11,
    "start_time": "2022-10-06T16:05:25.277Z"
   },
   {
    "duration": 14,
    "start_time": "2022-10-06T16:05:25.291Z"
   },
   {
    "duration": 9,
    "start_time": "2022-10-06T16:05:25.307Z"
   },
   {
    "duration": 22,
    "start_time": "2022-10-06T16:05:25.318Z"
   },
   {
    "duration": 116,
    "start_time": "2022-10-06T16:05:25.342Z"
   },
   {
    "duration": 173,
    "start_time": "2022-10-06T16:05:25.460Z"
   },
   {
    "duration": 18,
    "start_time": "2022-10-06T16:05:25.635Z"
   },
   {
    "duration": 247,
    "start_time": "2022-10-06T16:05:25.655Z"
   },
   {
    "duration": 15,
    "start_time": "2022-10-06T16:05:25.904Z"
   },
   {
    "duration": 316,
    "start_time": "2022-10-06T16:05:25.921Z"
   },
   {
    "duration": 371,
    "start_time": "2022-10-06T16:05:26.240Z"
   },
   {
    "duration": 24,
    "start_time": "2022-10-06T16:05:26.612Z"
   },
   {
    "duration": 217,
    "start_time": "2022-10-06T16:05:26.637Z"
   },
   {
    "duration": 118,
    "start_time": "2022-10-06T16:05:26.855Z"
   },
   {
    "duration": 110,
    "start_time": "2022-10-06T16:05:26.975Z"
   },
   {
    "duration": 228,
    "start_time": "2022-10-06T16:05:27.087Z"
   },
   {
    "duration": 161,
    "start_time": "2022-10-06T16:06:08.305Z"
   },
   {
    "duration": 167,
    "start_time": "2022-10-06T16:06:32.836Z"
   },
   {
    "duration": 157,
    "start_time": "2022-10-06T16:07:49.965Z"
   },
   {
    "duration": 166,
    "start_time": "2022-10-06T16:08:02.355Z"
   },
   {
    "duration": 156,
    "start_time": "2022-10-06T16:08:19.354Z"
   },
   {
    "duration": 302,
    "start_time": "2022-10-06T16:08:41.794Z"
   },
   {
    "duration": 259,
    "start_time": "2022-10-06T16:08:53.619Z"
   },
   {
    "duration": 167,
    "start_time": "2022-10-06T16:09:12.320Z"
   },
   {
    "duration": 198,
    "start_time": "2022-10-06T16:09:30.675Z"
   },
   {
    "duration": 185,
    "start_time": "2022-10-06T16:09:58.285Z"
   },
   {
    "duration": 165,
    "start_time": "2022-10-06T16:10:19.120Z"
   },
   {
    "duration": 137,
    "start_time": "2022-10-06T16:51:19.647Z"
   },
   {
    "duration": 123,
    "start_time": "2022-10-06T16:52:23.654Z"
   },
   {
    "duration": 122,
    "start_time": "2022-10-06T16:52:33.394Z"
   },
   {
    "duration": 116,
    "start_time": "2022-10-06T16:52:59.066Z"
   },
   {
    "duration": 118,
    "start_time": "2022-10-06T16:56:27.346Z"
   },
   {
    "duration": 117,
    "start_time": "2022-10-06T16:58:44.179Z"
   },
   {
    "duration": 190,
    "start_time": "2022-10-06T16:59:50.032Z"
   },
   {
    "duration": 115,
    "start_time": "2022-10-06T17:00:02.853Z"
   },
   {
    "duration": 214,
    "start_time": "2022-10-06T17:05:43.548Z"
   },
   {
    "duration": 132,
    "start_time": "2022-10-06T17:24:43.977Z"
   },
   {
    "duration": 138,
    "start_time": "2022-10-06T17:25:07.728Z"
   },
   {
    "duration": 157,
    "start_time": "2022-10-06T17:25:25.973Z"
   },
   {
    "duration": 45,
    "start_time": "2022-10-06T17:38:45.594Z"
   },
   {
    "duration": 22,
    "start_time": "2022-10-06T17:38:51.464Z"
   },
   {
    "duration": 10,
    "start_time": "2022-10-06T17:40:46.340Z"
   },
   {
    "duration": 8,
    "start_time": "2022-10-06T17:41:05.829Z"
   },
   {
    "duration": 10,
    "start_time": "2022-10-06T17:41:51.459Z"
   },
   {
    "duration": 12,
    "start_time": "2022-10-06T17:42:20.100Z"
   },
   {
    "duration": 49,
    "start_time": "2022-10-06T17:45:07.179Z"
   },
   {
    "duration": 14,
    "start_time": "2022-10-06T17:45:17.624Z"
   },
   {
    "duration": 23,
    "start_time": "2022-10-06T17:47:42.689Z"
   },
   {
    "duration": 24,
    "start_time": "2022-10-06T17:48:21.309Z"
   },
   {
    "duration": 23,
    "start_time": "2022-10-06T17:48:35.725Z"
   },
   {
    "duration": 30,
    "start_time": "2022-10-06T17:50:09.845Z"
   },
   {
    "duration": 14,
    "start_time": "2022-10-06T17:58:08.669Z"
   },
   {
    "duration": 26,
    "start_time": "2022-10-06T17:58:59.110Z"
   },
   {
    "duration": 22,
    "start_time": "2022-10-06T17:59:09.935Z"
   },
   {
    "duration": 32,
    "start_time": "2022-10-06T18:00:24.329Z"
   },
   {
    "duration": 172,
    "start_time": "2022-10-06T18:08:33.324Z"
   },
   {
    "duration": 16,
    "start_time": "2022-10-06T18:09:17.054Z"
   },
   {
    "duration": 334,
    "start_time": "2022-10-06T18:16:09.609Z"
   },
   {
    "duration": 369,
    "start_time": "2022-10-06T18:17:36.084Z"
   },
   {
    "duration": 331,
    "start_time": "2022-10-06T18:18:04.919Z"
   },
   {
    "duration": 260,
    "start_time": "2022-10-06T18:18:49.174Z"
   },
   {
    "duration": 380,
    "start_time": "2022-10-06T18:19:32.624Z"
   },
   {
    "duration": 913,
    "start_time": "2022-10-07T14:45:36.610Z"
   },
   {
    "duration": 11,
    "start_time": "2022-10-07T14:45:37.525Z"
   },
   {
    "duration": 14,
    "start_time": "2022-10-07T14:45:37.537Z"
   },
   {
    "duration": 14,
    "start_time": "2022-10-07T14:45:37.552Z"
   },
   {
    "duration": 8,
    "start_time": "2022-10-07T14:45:37.568Z"
   },
   {
    "duration": 9,
    "start_time": "2022-10-07T14:45:37.578Z"
   },
   {
    "duration": 114,
    "start_time": "2022-10-07T14:45:37.589Z"
   },
   {
    "duration": 165,
    "start_time": "2022-10-07T14:45:37.704Z"
   },
   {
    "duration": 18,
    "start_time": "2022-10-07T14:45:37.876Z"
   },
   {
    "duration": 245,
    "start_time": "2022-10-07T14:45:37.896Z"
   },
   {
    "duration": 14,
    "start_time": "2022-10-07T14:45:38.143Z"
   },
   {
    "duration": 335,
    "start_time": "2022-10-07T14:45:38.158Z"
   },
   {
    "duration": 227,
    "start_time": "2022-10-07T14:45:38.495Z"
   },
   {
    "duration": 14,
    "start_time": "2022-10-07T14:45:38.724Z"
   },
   {
    "duration": 226,
    "start_time": "2022-10-07T14:45:38.740Z"
   },
   {
    "duration": 171,
    "start_time": "2022-10-07T14:45:38.967Z"
   },
   {
    "duration": 148,
    "start_time": "2022-10-07T14:45:39.140Z"
   },
   {
    "duration": 162,
    "start_time": "2022-10-07T14:45:39.290Z"
   },
   {
    "duration": 241,
    "start_time": "2022-10-07T14:45:39.453Z"
   },
   {
    "duration": 34,
    "start_time": "2022-10-07T14:45:39.696Z"
   },
   {
    "duration": 57,
    "start_time": "2022-10-07T14:45:39.732Z"
   },
   {
    "duration": 439,
    "start_time": "2022-10-07T14:45:39.790Z"
   },
   {
    "duration": 618,
    "start_time": "2022-10-07T14:45:40.231Z"
   },
   {
    "duration": 1025,
    "start_time": "2022-10-07T15:08:04.786Z"
   },
   {
    "duration": 15,
    "start_time": "2022-10-07T15:09:48.557Z"
   },
   {
    "duration": 11,
    "start_time": "2022-10-07T15:10:07.503Z"
   },
   {
    "duration": 15,
    "start_time": "2022-10-07T15:10:50.249Z"
   },
   {
    "duration": 4,
    "start_time": "2022-10-07T15:11:40.209Z"
   },
   {
    "duration": 8,
    "start_time": "2022-10-07T15:13:16.374Z"
   },
   {
    "duration": 7,
    "start_time": "2022-10-07T15:14:25.974Z"
   },
   {
    "duration": 9,
    "start_time": "2022-10-07T15:57:07.303Z"
   },
   {
    "duration": 14,
    "start_time": "2022-10-07T16:17:27.698Z"
   },
   {
    "duration": 212,
    "start_time": "2022-10-07T16:17:42.119Z"
   },
   {
    "duration": 6,
    "start_time": "2022-10-07T16:20:56.467Z"
   },
   {
    "duration": 186,
    "start_time": "2022-10-07T16:27:25.830Z"
   },
   {
    "duration": 187,
    "start_time": "2022-10-07T16:29:04.082Z"
   },
   {
    "duration": 53,
    "start_time": "2022-10-09T17:57:17.003Z"
   },
   {
    "duration": 930,
    "start_time": "2022-10-09T17:57:25.691Z"
   },
   {
    "duration": 13,
    "start_time": "2022-10-09T17:57:26.624Z"
   },
   {
    "duration": 57,
    "start_time": "2022-10-09T17:57:26.640Z"
   },
   {
    "duration": 0,
    "start_time": "2022-10-09T17:57:26.700Z"
   },
   {
    "duration": 0,
    "start_time": "2022-10-09T17:57:26.701Z"
   },
   {
    "duration": 0,
    "start_time": "2022-10-09T17:57:26.702Z"
   },
   {
    "duration": 0,
    "start_time": "2022-10-09T17:57:26.704Z"
   },
   {
    "duration": 0,
    "start_time": "2022-10-09T17:57:26.706Z"
   },
   {
    "duration": 0,
    "start_time": "2022-10-09T17:57:26.706Z"
   },
   {
    "duration": 0,
    "start_time": "2022-10-09T17:57:26.708Z"
   },
   {
    "duration": 0,
    "start_time": "2022-10-09T17:57:26.709Z"
   },
   {
    "duration": 0,
    "start_time": "2022-10-09T17:57:26.710Z"
   },
   {
    "duration": 0,
    "start_time": "2022-10-09T17:57:26.711Z"
   },
   {
    "duration": 0,
    "start_time": "2022-10-09T17:57:26.712Z"
   },
   {
    "duration": 0,
    "start_time": "2022-10-09T17:57:26.714Z"
   },
   {
    "duration": 0,
    "start_time": "2022-10-09T17:57:26.715Z"
   },
   {
    "duration": 0,
    "start_time": "2022-10-09T17:57:26.716Z"
   },
   {
    "duration": 0,
    "start_time": "2022-10-09T17:57:26.718Z"
   },
   {
    "duration": 0,
    "start_time": "2022-10-09T17:57:26.719Z"
   },
   {
    "duration": 0,
    "start_time": "2022-10-09T17:57:26.720Z"
   },
   {
    "duration": 0,
    "start_time": "2022-10-09T17:57:26.722Z"
   },
   {
    "duration": 0,
    "start_time": "2022-10-09T17:57:26.723Z"
   },
   {
    "duration": 0,
    "start_time": "2022-10-09T17:57:26.724Z"
   },
   {
    "duration": 0,
    "start_time": "2022-10-09T17:57:26.725Z"
   },
   {
    "duration": 90,
    "start_time": "2022-10-09T17:58:03.443Z"
   },
   {
    "duration": 9,
    "start_time": "2022-10-09T17:58:17.638Z"
   },
   {
    "duration": 9,
    "start_time": "2022-10-09T18:00:47.023Z"
   },
   {
    "duration": 9,
    "start_time": "2022-10-09T18:01:57.693Z"
   },
   {
    "duration": 9,
    "start_time": "2022-10-09T18:02:12.556Z"
   },
   {
    "duration": 10,
    "start_time": "2022-10-09T18:08:56.713Z"
   },
   {
    "duration": 61,
    "start_time": "2022-10-09T18:11:52.765Z"
   },
   {
    "duration": 8,
    "start_time": "2022-10-09T18:11:58.619Z"
   },
   {
    "duration": 8,
    "start_time": "2022-10-09T18:12:56.482Z"
   },
   {
    "duration": 8,
    "start_time": "2022-10-09T18:15:26.018Z"
   },
   {
    "duration": 9,
    "start_time": "2022-10-09T18:16:00.903Z"
   },
   {
    "duration": 7,
    "start_time": "2022-10-09T18:17:47.918Z"
   },
   {
    "duration": 8,
    "start_time": "2022-10-09T18:19:33.389Z"
   },
   {
    "duration": 7,
    "start_time": "2022-10-09T18:19:47.695Z"
   },
   {
    "duration": 61,
    "start_time": "2022-10-09T18:19:58.582Z"
   },
   {
    "duration": 10,
    "start_time": "2022-10-09T18:20:06.085Z"
   },
   {
    "duration": 6,
    "start_time": "2022-10-09T18:20:12.592Z"
   },
   {
    "duration": 4,
    "start_time": "2022-10-09T18:20:34.907Z"
   },
   {
    "duration": 5,
    "start_time": "2022-10-09T18:21:01.259Z"
   },
   {
    "duration": 32,
    "start_time": "2022-10-09T18:22:03.728Z"
   },
   {
    "duration": 31,
    "start_time": "2022-10-09T18:22:59.180Z"
   },
   {
    "duration": 19,
    "start_time": "2022-10-09T18:24:11.815Z"
   },
   {
    "duration": 18,
    "start_time": "2022-10-09T18:25:06.503Z"
   },
   {
    "duration": 10,
    "start_time": "2022-10-09T18:27:34.139Z"
   },
   {
    "duration": 84,
    "start_time": "2022-10-09T18:29:58.684Z"
   },
   {
    "duration": 77,
    "start_time": "2022-10-09T18:30:37.531Z"
   },
   {
    "duration": 13,
    "start_time": "2022-10-09T18:31:45.629Z"
   },
   {
    "duration": 8,
    "start_time": "2022-10-09T18:31:48.166Z"
   },
   {
    "duration": 13,
    "start_time": "2022-10-09T18:31:52.201Z"
   },
   {
    "duration": 89,
    "start_time": "2022-10-09T18:31:54.904Z"
   },
   {
    "duration": 490,
    "start_time": "2022-10-09T18:51:34.427Z"
   },
   {
    "duration": 16,
    "start_time": "2022-10-09T18:56:45.895Z"
   },
   {
    "duration": 50,
    "start_time": "2022-10-09T18:59:20.609Z"
   },
   {
    "duration": 9,
    "start_time": "2022-10-09T19:00:51.458Z"
   },
   {
    "duration": 8,
    "start_time": "2022-10-09T19:00:56.809Z"
   },
   {
    "duration": 4,
    "start_time": "2022-10-09T19:01:01.889Z"
   },
   {
    "duration": 15,
    "start_time": "2022-10-09T19:01:04.252Z"
   },
   {
    "duration": 8,
    "start_time": "2022-10-09T19:01:06.570Z"
   },
   {
    "duration": 60,
    "start_time": "2022-10-09T19:01:13.245Z"
   },
   {
    "duration": 10,
    "start_time": "2022-10-09T19:01:18.496Z"
   },
   {
    "duration": 4,
    "start_time": "2022-10-09T19:01:22.362Z"
   },
   {
    "duration": 11,
    "start_time": "2022-10-09T19:01:25.828Z"
   },
   {
    "duration": 9,
    "start_time": "2022-10-09T19:01:27.815Z"
   },
   {
    "duration": 14,
    "start_time": "2022-10-09T19:13:54.916Z"
   },
   {
    "duration": 17,
    "start_time": "2022-10-09T19:14:04.175Z"
   },
   {
    "duration": 274,
    "start_time": "2022-10-09T19:14:10.014Z"
   },
   {
    "duration": 254,
    "start_time": "2022-10-09T19:22:32.080Z"
   },
   {
    "duration": 20,
    "start_time": "2022-10-09T19:22:54.259Z"
   },
   {
    "duration": 304,
    "start_time": "2022-10-09T19:23:01.088Z"
   },
   {
    "duration": 228,
    "start_time": "2022-10-09T19:23:44.250Z"
   },
   {
    "duration": 16,
    "start_time": "2022-10-09T19:23:49.148Z"
   },
   {
    "duration": 6,
    "start_time": "2022-10-09T19:23:55.431Z"
   },
   {
    "duration": 216,
    "start_time": "2022-10-09T19:23:58.091Z"
   },
   {
    "duration": 237,
    "start_time": "2022-10-09T19:24:41.649Z"
   },
   {
    "duration": 281,
    "start_time": "2022-10-09T19:24:46.023Z"
   },
   {
    "duration": 152,
    "start_time": "2022-10-09T19:24:54.993Z"
   },
   {
    "duration": 153,
    "start_time": "2022-10-09T19:25:48.568Z"
   },
   {
    "duration": 442,
    "start_time": "2022-10-09T19:27:06.962Z"
   },
   {
    "duration": 450,
    "start_time": "2022-10-09T19:28:02.381Z"
   },
   {
    "duration": 456,
    "start_time": "2022-10-09T19:28:35.571Z"
   },
   {
    "duration": 461,
    "start_time": "2022-10-09T19:28:37.823Z"
   },
   {
    "duration": 44,
    "start_time": "2022-10-10T16:39:25.385Z"
   },
   {
    "duration": 953,
    "start_time": "2022-10-10T16:39:33.132Z"
   },
   {
    "duration": 10,
    "start_time": "2022-10-10T16:39:34.087Z"
   },
   {
    "duration": 4,
    "start_time": "2022-10-10T16:39:34.098Z"
   },
   {
    "duration": 12,
    "start_time": "2022-10-10T16:39:34.104Z"
   },
   {
    "duration": 8,
    "start_time": "2022-10-10T16:39:34.119Z"
   },
   {
    "duration": 8,
    "start_time": "2022-10-10T16:39:34.129Z"
   },
   {
    "duration": 83,
    "start_time": "2022-10-10T16:39:34.139Z"
   },
   {
    "duration": 0,
    "start_time": "2022-10-10T16:39:34.224Z"
   },
   {
    "duration": 0,
    "start_time": "2022-10-10T16:39:34.225Z"
   },
   {
    "duration": 0,
    "start_time": "2022-10-10T16:39:34.226Z"
   },
   {
    "duration": 0,
    "start_time": "2022-10-10T16:39:34.228Z"
   },
   {
    "duration": 0,
    "start_time": "2022-10-10T16:39:34.229Z"
   },
   {
    "duration": 0,
    "start_time": "2022-10-10T16:39:34.230Z"
   },
   {
    "duration": 0,
    "start_time": "2022-10-10T16:39:34.231Z"
   },
   {
    "duration": 0,
    "start_time": "2022-10-10T16:39:34.232Z"
   },
   {
    "duration": 0,
    "start_time": "2022-10-10T16:39:34.233Z"
   },
   {
    "duration": 1,
    "start_time": "2022-10-10T16:39:34.234Z"
   },
   {
    "duration": 0,
    "start_time": "2022-10-10T16:39:34.235Z"
   },
   {
    "duration": 0,
    "start_time": "2022-10-10T16:39:34.236Z"
   },
   {
    "duration": 0,
    "start_time": "2022-10-10T16:39:34.237Z"
   },
   {
    "duration": 0,
    "start_time": "2022-10-10T16:39:34.238Z"
   },
   {
    "duration": 0,
    "start_time": "2022-10-10T16:39:34.239Z"
   },
   {
    "duration": 0,
    "start_time": "2022-10-10T16:39:34.241Z"
   },
   {
    "duration": 0,
    "start_time": "2022-10-10T16:39:34.242Z"
   },
   {
    "duration": 176,
    "start_time": "2022-10-10T16:40:02.432Z"
   },
   {
    "duration": 132,
    "start_time": "2022-10-10T16:51:23.078Z"
   },
   {
    "duration": 12,
    "start_time": "2022-10-10T16:57:46.082Z"
   },
   {
    "duration": 219,
    "start_time": "2022-10-10T16:58:05.107Z"
   },
   {
    "duration": 10,
    "start_time": "2022-10-10T16:58:12.278Z"
   },
   {
    "duration": 24,
    "start_time": "2022-10-10T16:58:23.279Z"
   },
   {
    "duration": 18,
    "start_time": "2022-10-10T16:58:29.496Z"
   },
   {
    "duration": 337,
    "start_time": "2022-10-10T16:58:33.057Z"
   },
   {
    "duration": 184,
    "start_time": "2022-10-10T17:00:08.312Z"
   },
   {
    "duration": 6,
    "start_time": "2022-10-10T17:00:11.910Z"
   },
   {
    "duration": 223,
    "start_time": "2022-10-10T17:00:21.110Z"
   },
   {
    "duration": 206,
    "start_time": "2022-10-10T17:00:26.089Z"
   },
   {
    "duration": 127,
    "start_time": "2022-10-10T17:00:33.520Z"
   },
   {
    "duration": 137,
    "start_time": "2022-10-10T17:00:37.633Z"
   },
   {
    "duration": 212,
    "start_time": "2022-10-10T17:01:08.559Z"
   },
   {
    "duration": 444,
    "start_time": "2022-10-10T17:02:46.021Z"
   },
   {
    "duration": 252,
    "start_time": "2022-10-10T17:06:15.318Z"
   },
   {
    "duration": 33,
    "start_time": "2022-10-10T17:09:27.093Z"
   },
   {
    "duration": 81,
    "start_time": "2022-10-10T17:09:34.551Z"
   },
   {
    "duration": 491,
    "start_time": "2022-10-10T17:09:46.432Z"
   },
   {
    "duration": 1351,
    "start_time": "2022-10-11T08:52:47.440Z"
   },
   {
    "duration": 33,
    "start_time": "2022-10-11T08:52:49.789Z"
   },
   {
    "duration": 12,
    "start_time": "2022-10-11T08:52:50.813Z"
   },
   {
    "duration": 18,
    "start_time": "2022-10-11T08:52:51.532Z"
   },
   {
    "duration": 17,
    "start_time": "2022-10-11T08:52:51.992Z"
   },
   {
    "duration": 30,
    "start_time": "2022-10-11T08:52:52.286Z"
   },
   {
    "duration": 132,
    "start_time": "2022-10-11T08:52:53.043Z"
   },
   {
    "duration": 224,
    "start_time": "2022-10-11T08:53:13.721Z"
   },
   {
    "duration": 63,
    "start_time": "2022-10-11T08:53:14.772Z"
   },
   {
    "duration": 355,
    "start_time": "2022-10-11T08:53:15.488Z"
   },
   {
    "duration": 19,
    "start_time": "2022-10-11T08:53:16.032Z"
   },
   {
    "duration": 382,
    "start_time": "2022-10-11T08:53:16.220Z"
   },
   {
    "duration": 352,
    "start_time": "2022-10-11T08:53:16.609Z"
   },
   {
    "duration": 7,
    "start_time": "2022-10-11T08:53:16.964Z"
   },
   {
    "duration": 281,
    "start_time": "2022-10-11T08:53:17.386Z"
   },
   {
    "duration": 252,
    "start_time": "2022-10-11T08:53:17.853Z"
   },
   {
    "duration": 222,
    "start_time": "2022-10-11T08:53:18.541Z"
   },
   {
    "duration": 273,
    "start_time": "2022-10-11T08:53:18.786Z"
   },
   {
    "duration": 394,
    "start_time": "2022-10-11T08:53:19.461Z"
   },
   {
    "duration": 48,
    "start_time": "2022-10-11T08:53:20.515Z"
   },
   {
    "duration": 144,
    "start_time": "2022-10-11T08:53:21.516Z"
   },
   {
    "duration": 618,
    "start_time": "2022-10-11T08:53:28.857Z"
   },
   {
    "duration": 584,
    "start_time": "2022-10-11T08:53:29.987Z"
   },
   {
    "duration": 11,
    "start_time": "2022-10-11T08:53:30.620Z"
   },
   {
    "duration": 44,
    "start_time": "2022-10-11T15:28:08.103Z"
   },
   {
    "duration": 960,
    "start_time": "2022-10-11T15:29:51.459Z"
   },
   {
    "duration": 9,
    "start_time": "2022-10-11T15:29:52.421Z"
   },
   {
    "duration": 7,
    "start_time": "2022-10-11T15:29:52.432Z"
   },
   {
    "duration": 14,
    "start_time": "2022-10-11T15:29:52.441Z"
   },
   {
    "duration": 7,
    "start_time": "2022-10-11T15:29:52.456Z"
   },
   {
    "duration": 12,
    "start_time": "2022-10-11T15:29:52.464Z"
   },
   {
    "duration": 106,
    "start_time": "2022-10-11T15:29:52.478Z"
   },
   {
    "duration": 163,
    "start_time": "2022-10-11T15:29:52.586Z"
   },
   {
    "duration": 16,
    "start_time": "2022-10-11T15:29:52.751Z"
   },
   {
    "duration": 230,
    "start_time": "2022-10-11T15:29:52.769Z"
   },
   {
    "duration": 22,
    "start_time": "2022-10-11T15:29:53.000Z"
   },
   {
    "duration": 290,
    "start_time": "2022-10-11T15:29:53.024Z"
   },
   {
    "duration": 183,
    "start_time": "2022-10-11T15:29:53.321Z"
   },
   {
    "duration": 16,
    "start_time": "2022-10-11T15:29:53.506Z"
   },
   {
    "duration": 195,
    "start_time": "2022-10-11T15:29:53.523Z"
   },
   {
    "duration": 166,
    "start_time": "2022-10-11T15:29:53.722Z"
   },
   {
    "duration": 157,
    "start_time": "2022-10-11T15:29:53.890Z"
   },
   {
    "duration": 141,
    "start_time": "2022-10-11T15:29:54.049Z"
   },
   {
    "duration": 194,
    "start_time": "2022-10-11T15:29:54.192Z"
   },
   {
    "duration": 38,
    "start_time": "2022-10-11T15:29:54.388Z"
   },
   {
    "duration": 95,
    "start_time": "2022-10-11T15:29:54.427Z"
   },
   {
    "duration": 0,
    "start_time": "2022-10-11T15:29:54.524Z"
   },
   {
    "duration": 0,
    "start_time": "2022-10-11T15:29:54.525Z"
   },
   {
    "duration": 0,
    "start_time": "2022-10-11T15:29:54.526Z"
   },
   {
    "duration": 74,
    "start_time": "2022-10-11T15:33:24.573Z"
   },
   {
    "duration": 39,
    "start_time": "2022-10-11T15:33:43.134Z"
   }
  ],
  "kernelspec": {
   "display_name": "Python 3 (ipykernel)",
   "language": "python",
   "name": "python3"
  },
  "language_info": {
   "codemirror_mode": {
    "name": "ipython",
    "version": 3
   },
   "file_extension": ".py",
   "mimetype": "text/x-python",
   "name": "python",
   "nbconvert_exporter": "python",
   "pygments_lexer": "ipython3",
   "version": "3.9.13"
  },
  "toc": {
   "base_numbering": 1,
   "nav_menu": {
    "height": "123.2px",
    "width": "221.2px"
   },
   "number_sections": true,
   "sideBar": true,
   "skip_h1_title": true,
   "title_cell": "Table of Contents",
   "title_sidebar": "Contents",
   "toc_cell": false,
   "toc_position": {
    "height": "calc(100% - 180px)",
    "left": "10px",
    "top": "150px",
    "width": "294.55px"
   },
   "toc_section_display": true,
   "toc_window_display": true
  }
 },
 "nbformat": 4,
 "nbformat_minor": 2
}
